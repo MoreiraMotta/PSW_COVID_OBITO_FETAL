{
 "cells": [
  {
   "cell_type": "code",
   "execution_count": 1,
   "metadata": {},
   "outputs": [],
   "source": [
    "# Import libraries\n",
    "import pandas as pd\n",
    "import numpy as np\n",
    "import matplotlib.pyplot as plt\n",
    "import seaborn as sns"
   ]
  },
  {
   "cell_type": "markdown",
   "metadata": {},
   "source": [
    "# Knowing the dataset"
   ]
  },
  {
   "cell_type": "code",
   "execution_count": 2,
   "metadata": {},
   "outputs": [
    {
     "name": "stderr",
     "output_type": "stream",
     "text": [
      "C:\\Users\\gabri\\anaconda3\\lib\\site-packages\\IPython\\core\\interactiveshell.py:3146: DtypeWarning: Columns (25,26,27,28,29,30) have mixed types.Specify dtype option on import or set low_memory=False.\n",
      "  has_raised = await self.run_ast_nodes(code_ast.body, cell_name,\n"
     ]
    }
   ],
   "source": [
    "#Import dataset\n",
    "df = pd.read_csv('base_limpa/base_unificada_limpa.csv')"
   ]
  },
  {
   "cell_type": "code",
   "execution_count": null,
   "metadata": {},
   "outputs": [],
   "source": [
    "# Configuration to show more rows and columns\n",
    "pd.set_option('display.max_rows', None)  # Show all rows\n",
    "pd.set_option('display.max_columns', None)  # Show all columns"
   ]
  },
  {
   "cell_type": "code",
   "execution_count": null,
   "metadata": {},
   "outputs": [],
   "source": [
    "url_dicionario = 'https://docs.google.com/spreadsheets/d/1QFy_F2o81ULglNx8knNqg6oI7v3RARaUAaLLwOQr7K4/edit?usp=sharing'\n",
    "f\"\"\"The dataset has {len(df)} lines and {len(df.columns)} columns. More details can be consulted in the dictionary {url_dicionario}. Below the type of variables and the 'face' from the dataset\"\"\""
   ]
  },
  {
   "cell_type": "code",
   "execution_count": null,
   "metadata": {},
   "outputs": [],
   "source": [
    "df.info()"
   ]
  },
  {
   "cell_type": "code",
   "execution_count": null,
   "metadata": {},
   "outputs": [],
   "source": [
    "df.head()"
   ]
  },
  {
   "cell_type": "markdown",
   "metadata": {},
   "source": [
    "#  Checking data quality"
   ]
  },
  {
   "cell_type": "markdown",
   "metadata": {},
   "source": [
    "### Duplicates"
   ]
  },
  {
   "cell_type": "code",
   "execution_count": null,
   "metadata": {},
   "outputs": [],
   "source": [
    "# Duplicate data \n",
    "duplicados = df.duplicated()\n",
    "soma = duplicados.sum()\n",
    "f\"\"\"The dataset has {soma} duplicate rows, which represents {round((soma/len(df)) * 100, 2)} %\"\"\""
   ]
  },
  {
   "cell_type": "markdown",
   "metadata": {},
   "source": [
    "### Missing"
   ]
  },
  {
   "cell_type": "code",
   "execution_count": null,
   "metadata": {
    "scrolled": true
   },
   "outputs": [],
   "source": [
    "# Counting missing values\n",
    "df_sim_dofet = df[df['FLAG_BASE']=='SIM_DOFET']\n",
    "missing_count_sim_dofet = df_sim_dofet.isnull().sum()  # counts the null values in each column\n",
    "missing_percent_sim_dofet = round((missing_count_sim_dofet / len(df_sim_dofet)) * 100,2)  # calculates the percentage of null values\n",
    "missing_data_sim_dofet = pd.DataFrame({'Missing Count': missing_count_sim_dofet, 'Missing Percentage': missing_percent_sim_dofet})\n",
    "missing_data_sim_dofet.index.name = 'Variable'  # sets the index name to 'Variable'\n",
    "missing_data_sim_dofet.reset_index(inplace=True)  # resets the index to make 'Variable' a column\n",
    "missing_data_sim_dofet['BASE'] = 'SIM_DOFET'\n",
    "\n",
    "df_sinasc = df[df['FLAG_BASE']=='SINASC']\n",
    "missing_count_sinasc = df_sinasc.isnull().sum()  # counts the null values in each column\n",
    "missing_percent_sinasc = round((missing_count_sinasc / len(df_sinasc)) * 100,2)  # calculates the percentage of null values\n",
    "missing_data_sinasc = pd.DataFrame({'Missing Count': missing_count_sinasc, 'Missing Percentage': missing_percent_sinasc})\n",
    "missing_data_sinasc.index.name = 'Variable'  # sets the index name to 'Variable'\n",
    "missing_data_sinasc.reset_index(inplace=True)  # resets the index to make 'Variable' a column\n",
    "missing_data_sinasc['BASE'] = 'SINASC'\n",
    "\n",
    "# appending\n",
    "missing_data = pd.concat([missing_data_sim_dofet, missing_data_sinasc])\n",
    "\n",
    "# Sorting the DataFrame by the highest missing frequencies\n",
    "missing_data_sorted = missing_data.sort_values(by=['BASE', 'Missing Count'], ascending=False)\n",
    "\n",
    "missing_data_sorted[missing_data_sorted['Missing Percentage'] > 0]\n",
    "\n",
    "# Some variables are not filled in the sinasc dataset. For EDA it will be used in SIM_DOFET, but in the model it will not be removed\n",
    "# 'OBITOGRAV' no padding at the base\n",
    "# Missing points for other variables will be removed, keeping the variables in the study"
   ]
  },
  {
   "cell_type": "code",
   "execution_count": null,
   "metadata": {},
   "outputs": [],
   "source": [
    "del missing_data_sorted, missing_data, df_sim_dofet, df_sinasc"
   ]
  },
  {
   "cell_type": "markdown",
   "metadata": {},
   "source": [
    "### Categorical variables"
   ]
  },
  {
   "cell_type": "code",
   "execution_count": null,
   "metadata": {},
   "outputs": [],
   "source": [
    "lista_cat = [\n",
    "'ano_evento'\n",
    ", 'TIPOBITO'       \n",
    ", 'evento_MUNNOMEX'\n",
    ", 'res_MUNNOMEX'\n",
    ", 'evento_CAPITAL'\n",
    ", 'res_CAPITAL'\n",
    ", 'evento_REGIAO'\n",
    ", 'res_REGIAO'\n",
    ", 'evento_SIGLA_UF'\n",
    ", 'res_SIGLA_UF'\n",
    ", 'idademae_faixa'\n",
    ", 'ESCMAE2010'\n",
    ", 'escolaridade_mae'\n",
    ", 'OBITOGRAV'\n",
    ", 'GRAVIDEZ'\n",
    ", 'tipo_gravidez'\n",
    ", 'idade_gestacao_faixa'\n",
    ", 'SEXO'\n",
    ", 'def_sexo'\n",
    ", 'peso_faixa'\n",
    ", 'OBITOPARTO'\n",
    ", 'def_obito_parto'\n",
    ", 'CAUSABAS'\n",
    ", 'causabas_capitulo'\n",
    ", 'causabas_categoria'\n",
    ", 'causabas_grupo'\n",
    ", 'causabas_subcategoria'\n",
    ", 'FLAG_BASE'\n",
    "            ]\n",
    "for col in lista_cat:\n",
    "    print(f'\\nPercentual de valores únicos para {col}:')\n",
    "    print(round((df[col].value_counts()/len(df)) * 100, 2))"
   ]
  },
  {
   "cell_type": "markdown",
   "metadata": {},
   "source": [
    "### Numerical variables"
   ]
  },
  {
   "cell_type": "code",
   "execution_count": null,
   "metadata": {},
   "outputs": [],
   "source": [
    "# Basic Statistics for Numeric Variables\n",
    "lista_numerica = [\n",
    "'IDADEMAE'\n",
    ", 'SEMAGESTAC'\n",
    ", 'PESO'\n",
    ", 'sum_CENTROBS'\n",
    ", 'sum_QTINST34'\n",
    ", 'sum_QTINST35'\n",
    ", 'sum_QTINST36'\n",
    ", 'sum_QTINST37'\n",
    ", 'sum_QTLEIT34'\n",
    ", 'sum_QTLEIT38'\n",
    ", 'sum_QTLEIT39'\n",
    ", 'sum_QTLEIT40'\n",
    ", 'sum_CENTRNEO'\n",
    ", 'TP_UNID_5'\n",
    ", 'TP_UNID_7'\n",
    ", 'TP_UNID_15'\n",
    ", 'TP_UNID_36'\n",
    ", 'TP_UNID_61'\n",
    "]\n",
    "estatisticas_numericas = df[lista_numerica].describe()\n",
    "estatisticas_numericas"
   ]
  },
  {
   "cell_type": "markdown",
   "metadata": {},
   "source": [
    "### Outlier"
   ]
  },
  {
   "cell_type": "code",
   "execution_count": null,
   "metadata": {},
   "outputs": [],
   "source": [
    "def detectar_outliers(col):\n",
    "    q1 = col.quantile(0.25)\n",
    "    q3 = col.quantile(0.75)\n",
    "    iqr = q3 - q1\n",
    "    lower_bound = q1 - 1.5 * iqr\n",
    "    upper_bound = q3 + 1.5 * iqr\n",
    "    outliers = col[(col < lower_bound) | (col > upper_bound)]\n",
    "    return outliers\n",
    "\n",
    "outliers_numericos = df[lista_numerica].apply(detectar_outliers)\n",
    "\n",
    "for i in lista_numerica:\n",
    "    print(outliers_numericos.loc[~outliers_numericos[i].isna(), [i]].describe())"
   ]
  },
  {
   "cell_type": "code",
   "execution_count": null,
   "metadata": {},
   "outputs": [],
   "source": [
    "for i in lista_numerica:\n",
    "    x1 = df.loc[df['ano_evento'] == 2019, i]\n",
    "    x2 = df.loc[df['ano_evento'] == 2020, i]\n",
    "    x3 = df.loc[df['ano_evento'] == 2021, i]\n",
    "    x4 = df.loc[df['ano_evento'] == 2022, i]\n",
    "\n",
    "    # Normalize\n",
    "    kwargs = dict(alpha=0.5, bins=100, density=True, stacked=True)\n",
    "\n",
    "    # Plot\n",
    "    plt.figure()  # Creates a new figure for each iteration\n",
    "    plt.hist(x1, **kwargs, color='g', label='2019')\n",
    "    plt.hist(x2, **kwargs, color='b', label='2020')\n",
    "    plt.hist(x3, **kwargs, color='r', label='2021')\n",
    "    plt.hist(x4, **kwargs, color='y', label='2022')\n",
    "    plt.gca().set(title=f'Histograma {i}', ylabel='Probability')\n",
    "    # plt.xlim(50, 75)\n",
    "    plt.legend()\n",
    "\n",
    "    # Show or save the figure here if needed\n",
    "    # plt.savefig(f'histograma_{i}.png')\n",
    "\n",
    "    plt.show()  # Show the graph"
   ]
  },
  {
   "cell_type": "markdown",
   "metadata": {},
   "source": [
    "# Some questions"
   ]
  },
  {
   "cell_type": "markdown",
   "metadata": {},
   "source": [
    "#### What is the percentage of deaths by cause each year?"
   ]
  },
  {
   "cell_type": "code",
   "execution_count": null,
   "metadata": {},
   "outputs": [],
   "source": [
    "df_sim_dofet = df.loc[df['FLAG_BASE']=='SIM_DOFET']\n",
    "contingency_table = pd.crosstab(index=df_sim_dofet['causabas_categoria'], columns=df_sim_dofet['ano_evento'], normalize='columns')\n",
    "contingency_table = contingency_table.reset_index()\n",
    "contingency_table.sort_values(by=2019, ascending=False)"
   ]
  },
  {
   "cell_type": "markdown",
   "metadata": {},
   "source": [
    "#### What is the proportion of deaths and births for each UF where the event (death or birth) occurred?"
   ]
  },
  {
   "cell_type": "code",
   "execution_count": null,
   "metadata": {},
   "outputs": [],
   "source": [
    "df_agrupado = df.groupby(\n",
    " [\n",
    "    'evento_SIGLA_UF'\n",
    "    , 'FLAG_BASE'\n",
    "    , 'ano_evento'\n",
    " ]\n",
    "    , as_index=False\n",
    ").agg(\n",
    "    count_evento=pd.NamedAgg(column='evento_SIGLA_UF', aggfunc='size')\n",
    ")\n",
    "\n",
    "df_pivot = pd.pivot_table(\n",
    "    df_agrupado\n",
    "    , index=['evento_SIGLA_UF']\n",
    "    , columns=['FLAG_BASE', 'ano_evento']\n",
    ").reset_index()\n",
    "df_pivot.columns = ['SIGLA_UF', 'SIM_DOFET_2019', 'SIM_DOFET_2020', 'SIM_DOFET_2021', 'SINASC_2019', 'SINASC_2020',\n",
    "                     'SINASC_2021', 'SINASC_2022']\n",
    "\n",
    "df_pivot['PROP_2019'] = df_pivot['SIM_DOFET_2019']/df_pivot['SINASC_2019']\n",
    "df_pivot['PROP_2020'] = df_pivot['SIM_DOFET_2020']/df_pivot['SINASC_2020']\n",
    "df_pivot['PROP_2021'] = df_pivot['SIM_DOFET_2021']/df_pivot['SINASC_2021']\n",
    "df_pivot"
   ]
  },
  {
   "cell_type": "markdown",
   "metadata": {},
   "source": [
    "#### Has any municipality seen a decrease in the number of beds dedicated to childbirth care?"
   ]
  },
  {
   "cell_type": "code",
   "execution_count": 10,
   "metadata": {},
   "outputs": [],
   "source": [
    "df_agrupado = df.groupby(\n",
    " [\n",
    "    'evento_SIGLA_UF'\n",
    "    , 'evento_MUNNOMEX'\n",
    "    , 'ano_evento'\n",
    " ]\n",
    "    , as_index=False\n",
    ").agg(\n",
    "    QTINST34=pd.NamedAgg(column='sum_QTINST34', aggfunc='max')\n",
    "    , QTINST35=pd.NamedAgg(column='sum_QTINST35', aggfunc='max')\n",
    "    , QTINST36=pd.NamedAgg(column='sum_QTINST36', aggfunc='max')\n",
    "    , QTINST37=pd.NamedAgg(column='sum_QTINST37', aggfunc='max')\n",
    "    , QTLEIT34=pd.NamedAgg(column='sum_QTLEIT34', aggfunc='max')\n",
    "    , QTLEIT38=pd.NamedAgg(column='sum_QTLEIT38', aggfunc='max')\n",
    "    , QTLEIT39=pd.NamedAgg(column='sum_QTLEIT39', aggfunc='max')\n",
    "    , QTLEIT40=pd.NamedAgg(column='sum_QTLEIT40', aggfunc='max')\n",
    "    )\n",
    "\n",
    "df_agrupado['QTINST'] = df_agrupado['QTINST34'] + df_agrupado['QTINST35'] + df_agrupado['QTINST36'] + df_agrupado['QTINST37']\n",
    "df_agrupado['QTLEIT'] = df_agrupado['QTLEIT34'] + df_agrupado['QTLEIT38'] + df_agrupado['QTLEIT39'] + df_agrupado['QTLEIT40']\n",
    "\n",
    "df_pivot = pd.pivot_table(\n",
    "    df_agrupado\n",
    "    , index=['evento_SIGLA_UF', 'evento_MUNNOMEX']\n",
    "    , columns=['ano_evento']\n",
    "    , values = ['QTINST', 'QTLEIT']\n",
    "    , fill_value=0\n",
    ").reset_index()\n",
    "df_pivot.columns = ['evento_SIGLA_UF', 'evento_MUNNOMEX', 'QTINST_2019', 'QTINST_2020', 'QTINST_2021', 'QTINST_2022',\n",
    "                   'QTLEIT_2019', 'QTLEIT_2020', 'QTLEIT_2021', 'QTLEIT_2022']\n",
    "\n",
    "df_pivot['dif_qtinst_20_19'] = df_pivot['QTINST_2020'] - df_pivot['QTINST_2019'] \n",
    "df_pivot['dif_qtinst_21_20'] = df_pivot['QTINST_2021'] - df_pivot['QTINST_2020'] \n",
    "df_pivot['dif_qtinst_22_21'] = df_pivot['QTINST_2022'] - df_pivot['QTINST_2021'] \n",
    "df_pivot['dif_qtleit_20_19'] = df_pivot['QTLEIT_2020'] - df_pivot['QTLEIT_2019'] \n",
    "df_pivot['dif_qtleit_21_20'] = df_pivot['QTLEIT_2021'] - df_pivot['QTLEIT_2020'] \n",
    "df_pivot['dif_qtleit_22_21'] = df_pivot['QTLEIT_2022'] - df_pivot['QTLEIT_2021'] "
   ]
  },
  {
   "cell_type": "code",
   "execution_count": 12,
   "metadata": {},
   "outputs": [
    {
     "data": {
      "text/html": [
       "<div>\n",
       "<style scoped>\n",
       "    .dataframe tbody tr th:only-of-type {\n",
       "        vertical-align: middle;\n",
       "    }\n",
       "\n",
       "    .dataframe tbody tr th {\n",
       "        vertical-align: top;\n",
       "    }\n",
       "\n",
       "    .dataframe thead th {\n",
       "        text-align: right;\n",
       "    }\n",
       "</style>\n",
       "<table border=\"1\" class=\"dataframe\">\n",
       "  <thead>\n",
       "    <tr style=\"text-align: right;\">\n",
       "      <th></th>\n",
       "      <th>evento_SIGLA_UF</th>\n",
       "      <th>evento_MUNNOMEX</th>\n",
       "      <th>QTINST_2019</th>\n",
       "      <th>QTINST_2020</th>\n",
       "      <th>QTINST_2021</th>\n",
       "      <th>QTINST_2022</th>\n",
       "      <th>QTLEIT_2019</th>\n",
       "      <th>QTLEIT_2020</th>\n",
       "      <th>QTLEIT_2021</th>\n",
       "      <th>QTLEIT_2022</th>\n",
       "      <th>dif_qtinst_20_19</th>\n",
       "      <th>dif_qtinst_21_20</th>\n",
       "      <th>dif_qtinst_22_21</th>\n",
       "      <th>dif_qtleit_20_19</th>\n",
       "      <th>dif_qtleit_21_20</th>\n",
       "      <th>dif_qtleit_22_21</th>\n",
       "    </tr>\n",
       "  </thead>\n",
       "  <tbody>\n",
       "    <tr>\n",
       "      <th>0</th>\n",
       "      <td>AC</td>\n",
       "      <td>ACRELANDIA</td>\n",
       "      <td>30</td>\n",
       "      <td>2</td>\n",
       "      <td>23</td>\n",
       "      <td>6</td>\n",
       "      <td>196</td>\n",
       "      <td>1</td>\n",
       "      <td>197</td>\n",
       "      <td>25</td>\n",
       "      <td>-28</td>\n",
       "      <td>21</td>\n",
       "      <td>-17</td>\n",
       "      <td>-195</td>\n",
       "      <td>196</td>\n",
       "      <td>-172</td>\n",
       "    </tr>\n",
       "    <tr>\n",
       "      <th>1</th>\n",
       "      <td>AC</td>\n",
       "      <td>ASSIS BRASIL</td>\n",
       "      <td>2</td>\n",
       "      <td>2</td>\n",
       "      <td>17</td>\n",
       "      <td>2</td>\n",
       "      <td>0</td>\n",
       "      <td>0</td>\n",
       "      <td>53</td>\n",
       "      <td>0</td>\n",
       "      <td>0</td>\n",
       "      <td>15</td>\n",
       "      <td>-15</td>\n",
       "      <td>0</td>\n",
       "      <td>53</td>\n",
       "      <td>-53</td>\n",
       "    </tr>\n",
       "    <tr>\n",
       "      <th>2</th>\n",
       "      <td>AC</td>\n",
       "      <td>BRASILEIA</td>\n",
       "      <td>17</td>\n",
       "      <td>17</td>\n",
       "      <td>9</td>\n",
       "      <td>13</td>\n",
       "      <td>53</td>\n",
       "      <td>66</td>\n",
       "      <td>8</td>\n",
       "      <td>26</td>\n",
       "      <td>0</td>\n",
       "      <td>-8</td>\n",
       "      <td>4</td>\n",
       "      <td>13</td>\n",
       "      <td>-58</td>\n",
       "      <td>18</td>\n",
       "    </tr>\n",
       "    <tr>\n",
       "      <th>3</th>\n",
       "      <td>AC</td>\n",
       "      <td>BUJARI</td>\n",
       "      <td>0</td>\n",
       "      <td>4</td>\n",
       "      <td>0</td>\n",
       "      <td>0</td>\n",
       "      <td>0</td>\n",
       "      <td>7</td>\n",
       "      <td>0</td>\n",
       "      <td>0</td>\n",
       "      <td>4</td>\n",
       "      <td>-4</td>\n",
       "      <td>0</td>\n",
       "      <td>7</td>\n",
       "      <td>-7</td>\n",
       "      <td>0</td>\n",
       "    </tr>\n",
       "    <tr>\n",
       "      <th>5</th>\n",
       "      <td>AC</td>\n",
       "      <td>CRUZEIRO DO SUL</td>\n",
       "      <td>70</td>\n",
       "      <td>75</td>\n",
       "      <td>29</td>\n",
       "      <td>23</td>\n",
       "      <td>464</td>\n",
       "      <td>508</td>\n",
       "      <td>197</td>\n",
       "      <td>67</td>\n",
       "      <td>5</td>\n",
       "      <td>-46</td>\n",
       "      <td>-6</td>\n",
       "      <td>44</td>\n",
       "      <td>-311</td>\n",
       "      <td>-130</td>\n",
       "    </tr>\n",
       "    <tr>\n",
       "      <th>...</th>\n",
       "      <td>...</td>\n",
       "      <td>...</td>\n",
       "      <td>...</td>\n",
       "      <td>...</td>\n",
       "      <td>...</td>\n",
       "      <td>...</td>\n",
       "      <td>...</td>\n",
       "      <td>...</td>\n",
       "      <td>...</td>\n",
       "      <td>...</td>\n",
       "      <td>...</td>\n",
       "      <td>...</td>\n",
       "      <td>...</td>\n",
       "      <td>...</td>\n",
       "      <td>...</td>\n",
       "      <td>...</td>\n",
       "    </tr>\n",
       "    <tr>\n",
       "      <th>4509</th>\n",
       "      <td>TO</td>\n",
       "      <td>SILVANOPOLIS</td>\n",
       "      <td>2</td>\n",
       "      <td>2</td>\n",
       "      <td>2</td>\n",
       "      <td>4</td>\n",
       "      <td>4</td>\n",
       "      <td>14</td>\n",
       "      <td>4</td>\n",
       "      <td>8</td>\n",
       "      <td>0</td>\n",
       "      <td>0</td>\n",
       "      <td>2</td>\n",
       "      <td>10</td>\n",
       "      <td>-10</td>\n",
       "      <td>4</td>\n",
       "    </tr>\n",
       "    <tr>\n",
       "      <th>4511</th>\n",
       "      <td>TO</td>\n",
       "      <td>TAGUATINGA</td>\n",
       "      <td>2</td>\n",
       "      <td>2</td>\n",
       "      <td>2</td>\n",
       "      <td>2</td>\n",
       "      <td>14</td>\n",
       "      <td>14</td>\n",
       "      <td>14</td>\n",
       "      <td>5</td>\n",
       "      <td>0</td>\n",
       "      <td>0</td>\n",
       "      <td>0</td>\n",
       "      <td>0</td>\n",
       "      <td>0</td>\n",
       "      <td>-9</td>\n",
       "    </tr>\n",
       "    <tr>\n",
       "      <th>4514</th>\n",
       "      <td>TO</td>\n",
       "      <td>TOCANTINOPOLIS</td>\n",
       "      <td>13</td>\n",
       "      <td>90</td>\n",
       "      <td>4</td>\n",
       "      <td>5</td>\n",
       "      <td>10</td>\n",
       "      <td>168</td>\n",
       "      <td>3</td>\n",
       "      <td>6</td>\n",
       "      <td>77</td>\n",
       "      <td>-86</td>\n",
       "      <td>1</td>\n",
       "      <td>158</td>\n",
       "      <td>-165</td>\n",
       "      <td>3</td>\n",
       "    </tr>\n",
       "    <tr>\n",
       "      <th>4515</th>\n",
       "      <td>TO</td>\n",
       "      <td>WANDERLANDIA</td>\n",
       "      <td>2</td>\n",
       "      <td>13</td>\n",
       "      <td>2</td>\n",
       "      <td>1</td>\n",
       "      <td>2</td>\n",
       "      <td>9</td>\n",
       "      <td>2</td>\n",
       "      <td>0</td>\n",
       "      <td>11</td>\n",
       "      <td>-11</td>\n",
       "      <td>-1</td>\n",
       "      <td>7</td>\n",
       "      <td>-7</td>\n",
       "      <td>-2</td>\n",
       "    </tr>\n",
       "    <tr>\n",
       "      <th>4516</th>\n",
       "      <td>TO</td>\n",
       "      <td>XAMBIOA</td>\n",
       "      <td>3</td>\n",
       "      <td>3</td>\n",
       "      <td>2</td>\n",
       "      <td>33</td>\n",
       "      <td>8</td>\n",
       "      <td>3</td>\n",
       "      <td>1</td>\n",
       "      <td>13</td>\n",
       "      <td>0</td>\n",
       "      <td>-1</td>\n",
       "      <td>31</td>\n",
       "      <td>-5</td>\n",
       "      <td>-2</td>\n",
       "      <td>12</td>\n",
       "    </tr>\n",
       "  </tbody>\n",
       "</table>\n",
       "<p>2892 rows × 16 columns</p>\n",
       "</div>"
      ],
      "text/plain": [
       "     evento_SIGLA_UF  evento_MUNNOMEX  QTINST_2019  QTINST_2020  QTINST_2021  \\\n",
       "0                 AC       ACRELANDIA           30            2           23   \n",
       "1                 AC     ASSIS BRASIL            2            2           17   \n",
       "2                 AC        BRASILEIA           17           17            9   \n",
       "3                 AC           BUJARI            0            4            0   \n",
       "5                 AC  CRUZEIRO DO SUL           70           75           29   \n",
       "...              ...              ...          ...          ...          ...   \n",
       "4509              TO     SILVANOPOLIS            2            2            2   \n",
       "4511              TO       TAGUATINGA            2            2            2   \n",
       "4514              TO   TOCANTINOPOLIS           13           90            4   \n",
       "4515              TO     WANDERLANDIA            2           13            2   \n",
       "4516              TO          XAMBIOA            3            3            2   \n",
       "\n",
       "      QTINST_2022  QTLEIT_2019  QTLEIT_2020  QTLEIT_2021  QTLEIT_2022  \\\n",
       "0               6          196            1          197           25   \n",
       "1               2            0            0           53            0   \n",
       "2              13           53           66            8           26   \n",
       "3               0            0            7            0            0   \n",
       "5              23          464          508          197           67   \n",
       "...           ...          ...          ...          ...          ...   \n",
       "4509            4            4           14            4            8   \n",
       "4511            2           14           14           14            5   \n",
       "4514            5           10          168            3            6   \n",
       "4515            1            2            9            2            0   \n",
       "4516           33            8            3            1           13   \n",
       "\n",
       "      dif_qtinst_20_19  dif_qtinst_21_20  dif_qtinst_22_21  dif_qtleit_20_19  \\\n",
       "0                  -28                21               -17              -195   \n",
       "1                    0                15               -15                 0   \n",
       "2                    0                -8                 4                13   \n",
       "3                    4                -4                 0                 7   \n",
       "5                    5               -46                -6                44   \n",
       "...                ...               ...               ...               ...   \n",
       "4509                 0                 0                 2                10   \n",
       "4511                 0                 0                 0                 0   \n",
       "4514                77               -86                 1               158   \n",
       "4515                11               -11                -1                 7   \n",
       "4516                 0                -1                31                -5   \n",
       "\n",
       "      dif_qtleit_21_20  dif_qtleit_22_21  \n",
       "0                  196              -172  \n",
       "1                   53               -53  \n",
       "2                  -58                18  \n",
       "3                   -7                 0  \n",
       "5                 -311              -130  \n",
       "...                ...               ...  \n",
       "4509               -10                 4  \n",
       "4511                 0                -9  \n",
       "4514              -165                 3  \n",
       "4515                -7                -2  \n",
       "4516                -2                12  \n",
       "\n",
       "[2892 rows x 16 columns]"
      ]
     },
     "execution_count": 12,
     "metadata": {},
     "output_type": "execute_result"
    }
   ],
   "source": [
    "aa = df_pivot.loc[(df_pivot['dif_qtinst_20_19']<0) | (df_pivot['dif_qtinst_21_20']<0) | (df_pivot['dif_qtinst_22_21']<0) |\n",
    "            (df_pivot['dif_qtleit_20_19']<0) | (df_pivot['dif_qtleit_21_20']<0) | (df_pivot['dif_qtleit_22_21']<0)]\n",
    "aa\n",
    "# 64% of the municipalities had some change in the years of the study"
   ]
  },
  {
   "cell_type": "markdown",
   "metadata": {},
   "source": [
    "#### How many municipalities had less than 12 births in a year?"
   ]
  },
  {
   "cell_type": "code",
   "execution_count": null,
   "metadata": {},
   "outputs": [],
   "source": []
  },
  {
   "cell_type": "code",
   "execution_count": null,
   "metadata": {},
   "outputs": [],
   "source": []
  },
  {
   "cell_type": "code",
   "execution_count": null,
   "metadata": {},
   "outputs": [],
   "source": []
  },
  {
   "cell_type": "markdown",
   "metadata": {},
   "source": [
    "# Cleaning the dataset"
   ]
  },
  {
   "cell_type": "code",
   "execution_count": null,
   "metadata": {},
   "outputs": [],
   "source": [
    "# Removing columns with a high frequency of missings\n",
    "\n",
    "#df_limpo = df_limpo.drop(columns=['OBITOGRAV', 'causabas_categoria', 'TIPOBITO', 'causabas_capitulo', 'CAUSABAS'\n",
    "#                                  , 'def_obito_parto', 'OBITOPARTO', 'causabas_subcategoria', 'causabas_grupo'])"
   ]
  },
  {
   "cell_type": "code",
   "execution_count": null,
   "metadata": {},
   "outputs": [],
   "source": [
    "# Removing duplicates\n",
    "tam_inicial = len(df)\n",
    "df_limpo = df.drop_duplicates()\n",
    "tam_depois=len(df_limpo)\n",
    "print(f'Remove duplicates {tam_inicial - tam_depois} rows')"
   ]
  },
  {
   "cell_type": "code",
   "execution_count": null,
   "metadata": {},
   "outputs": [],
   "source": [
    "df_limpo = df_limpo.reset_index(drop=True)"
   ]
  },
  {
   "cell_type": "code",
   "execution_count": null,
   "metadata": {},
   "outputs": [],
   "source": [
    "df_limpo.info()"
   ]
  },
  {
   "cell_type": "code",
   "execution_count": null,
   "metadata": {},
   "outputs": [],
   "source": [
    "df_limpo.to_csv('base_limpa/base_unificada_modelo.csv', index=False)"
   ]
  }
 ],
 "metadata": {
  "kernelspec": {
   "display_name": "Python 3",
   "language": "python",
   "name": "python3"
  },
  "language_info": {
   "codemirror_mode": {
    "name": "ipython",
    "version": 3
   },
   "file_extension": ".py",
   "mimetype": "text/x-python",
   "name": "python",
   "nbconvert_exporter": "python",
   "pygments_lexer": "ipython3",
   "version": "3.8.5"
  }
 },
 "nbformat": 4,
 "nbformat_minor": 4
}
