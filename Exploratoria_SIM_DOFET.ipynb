{
 "cells": [
  {
   "cell_type": "code",
   "execution_count": null,
   "metadata": {},
   "outputs": [],
   "source": [
    "import pandas as pd\n",
    "import numpy as np\n",
    "import matplotlib.pyplot as plt\n",
    "import seaborn as sns"
   ]
  },
  {
   "cell_type": "code",
   "execution_count": null,
   "metadata": {},
   "outputs": [],
   "source": [
    "df = pd.read_csv('C:\\\\Users\\\\gabri\\\\Documents\\\\MESTRADO_OBITO_FETAL_COVID\\\\dados_sim_dofet_select.csv',sep=';')\n",
    "# Selecionar def_obito_parto\n",
    "# Anos de interesse\n",
    "df = df[df['ano_obito'].isin([2019, 2020])]\n",
    "df = df.reset_index(drop=True)\n",
    "df['ano_obito'] = [str(i) for i in df['ano_obito']]\n",
    "df['TIPOBITO'] = [str(i) for i in df['TIPOBITO']]"
   ]
  },
  {
   "cell_type": "code",
   "execution_count": null,
   "metadata": {},
   "outputs": [],
   "source": [
    "df.info()"
   ]
  },
  {
   "cell_type": "code",
   "execution_count": null,
   "metadata": {},
   "outputs": [],
   "source": [
    "def data_quality(dataset, chave=None):\n",
    "    # 1. Tipos de Variáveis\n",
    "    tipos_variaveis = dataset.dtypes\n",
    "\n",
    "    # 2. Frequência das Variáveis Categóricas\n",
    "    #frequencia_categoricas = dataset.select_dtypes(include='object').apply(pd.Series.value_counts)\n",
    "\n",
    "    # 3. Valores Discrepantes (Numéricas)\n",
    "    def detectar_outliers(col):\n",
    "        q1 = col.quantile(0.25)\n",
    "        q3 = col.quantile(0.75)\n",
    "        iqr = q3 - q1\n",
    "        lower_bound = q1 - 1.5 * iqr\n",
    "        upper_bound = q3 + 1.5 * iqr\n",
    "        outliers = col[(col < lower_bound) | (col > upper_bound)]\n",
    "        return outliers\n",
    "\n",
    "    outliers_numericos = dataset.select_dtypes(include=np.number).apply(detectar_outliers)\n",
    "\n",
    "    # 4. Estatísticas básicas para variáveis numéricas\n",
    "    estatisticas_numericas = dataset.describe()\n",
    "\n",
    "    # 5. Pontos Faltantes\n",
    "    porcentagem_faltantes = dataset.isnull().mean() * 100\n",
    "\n",
    "    # 6. Dados Duplicados\n",
    "    if chave is not None:\n",
    "        duplicados = dataset.duplicated(subset=chave).sum()\n",
    "    else:\n",
    "        duplicados = dataset.duplicated().sum()\n",
    "\n",
    "    # Armazenar os resultados em um dicionário\n",
    "    resultados = {\n",
    "        \"tipos_variaveis\": tipos_variaveis,\n",
    "        #\"frequencia_categoricas\": frequencia_categoricas,\n",
    "        \"outliers_numericos\": outliers_numericos,\n",
    "        \"estatisticas_numericas\": estatisticas_numericas,\n",
    "        \"porcentagem_faltantes\": porcentagem_faltantes,\n",
    "        \"duplicados\": duplicados\n",
    "    }\n",
    "\n",
    "    return resultados\n",
    "\n",
    "# Exemplo de uso da função:\n",
    "# Supondo que 'dataset' seja o seu DataFrame\n",
    "# Para procurar duplicados por uma chave específica, como por exemplo 'ID':\n",
    "# result = data_quality(dataset, chave='ID')\n",
    "# Para procurar duplicados pela linha inteira:\n",
    "# result = data_quality(dataset)\n",
    "# print(result)"
   ]
  },
  {
   "cell_type": "code",
   "execution_count": null,
   "metadata": {},
   "outputs": [],
   "source": [
    "aa=data_quality(dataset=df, chave=None)"
   ]
  },
  {
   "cell_type": "code",
   "execution_count": null,
   "metadata": {},
   "outputs": [],
   "source": [
    "# Dados Duplicados\n",
    "duplicados = aa[\"duplicados\"]\n",
    "\n",
    "print(f\"\"\"\n",
    "Como não temos uma variavel identificadora esses valores podem ser reais, tendo em vista a baixa quantidade {round(duplicados/len(df),5)*100} % da base\n",
    ", não será excluído.\n",
    "\n",
    "\"\"\")"
   ]
  },
  {
   "cell_type": "code",
   "execution_count": null,
   "metadata": {},
   "outputs": [],
   "source": [
    "# Estatisticas das variaveis nu méricas\n",
    "aa[ \"estatisticas_numericas\"]\n",
    "# Remover peso zero\n",
    "# Ou Input \n",
    "# Remover Idade acima de X\n",
    "# Fazer um corte aproximadamente 6 desvios da média "
   ]
  },
  {
   "cell_type": "code",
   "execution_count": null,
   "metadata": {},
   "outputs": [],
   "source": [
    "# Outliers\n",
    "bb=aa[\"outliers_numericos\"]\n",
    "bb[~pd.isna(bb['IDADEMAE'])]"
   ]
  },
  {
   "cell_type": "code",
   "execution_count": null,
   "metadata": {},
   "outputs": [],
   "source": [
    "aa[\"porcentagem_faltantes\"]\n",
    "# Remover  pontos faltantes de idade e peso\n",
    "# Utilizar o dado 'cru' e depois limpo na descritiva apontando as diferenças."
   ]
  },
  {
   "cell_type": "code",
   "execution_count": null,
   "metadata": {},
   "outputs": [],
   "source": [
    "df[df['IDADEMAE'].isna()]"
   ]
  },
  {
   "cell_type": "code",
   "execution_count": null,
   "metadata": {},
   "outputs": [],
   "source": [
    "df[df['PESO'].isna()]"
   ]
  },
  {
   "cell_type": "code",
   "execution_count": null,
   "metadata": {},
   "outputs": [],
   "source": [
    "# Verificar contagem de valores únicos e valores ausentes para cada variável categórica\n",
    "for col in df.select_dtypes(include=['object']):\n",
    "    print(f'\\nContagem de valores únicos para {col}:')\n",
    "    print(df[col].value_counts())\n",
    "    print(f'\\nValores ausentes para {col}: {df[col].isnull().sum()}')\n",
    "\n",
    "# Região pode ser um caminho.\n",
    "# Olhar os bancos de nascimentos para verificar municípios com poucos partos/mês.\n",
    "# Ignorado Descartar\n",
    "\n",
    "# Categorizar PESO (Pequeno, adequado e (Gig 1 e 2(Macrossômico))) Função padrão, lembrar de pedir!\n",
    "# Variavel X combinado da iadade gestacional com o peso (Gig 1 e 2(Macrossômico))\n",
    "# Manter o PESO em variável absoluta.\n"
   ]
  },
  {
   "cell_type": "code",
   "execution_count": null,
   "metadata": {
    "scrolled": true
   },
   "outputs": [],
   "source": [
    "categoricas = [\n",
    "    'ocor_MUNNOMEX', 'ocor_CAPITAL', 'ocor_SIGLA_UF',\n",
    "       'ocor_REGIAO', 'def_escol_mae', 'def_raca_cor', 'def_sexo',\n",
    "      'def_parto', 'def_gravidez', 'def_gestacao', 'ano_obito'\n",
    "]\n",
    "for i in categoricas:\n",
    "    if i != 'ano_obito':\n",
    "        print(f'Variavel:{i} \\n {df[[\"ano_obito\", i]].value_counts(normalize=True) * 100}')\n",
    "    else:\n",
    "        print(f'Variavel:{i} \\n {df[i].value_counts(normalize=True) * 100}')\n",
    "    \n",
    "# Variavel raça com pouco preenchimento"
   ]
  },
  {
   "cell_type": "code",
   "execution_count": null,
   "metadata": {},
   "outputs": [],
   "source": [
    "# Nas variaveis peso e idade da mae farei o input de dados faltante pela mediana.\n",
    "\n",
    "mediana_idade = np.nanmedian(df['IDADEMAE'])\n",
    "df['IDADEMAE'] = np.where(df['IDADEMAE'].isna(), mediana_idade, df['IDADEMAE'])\n",
    "\n",
    "\n",
    "mediana_peso = np.nanmedian(df['PESO'])\n",
    "df['PESO'] = np.where(df['PESO'].isna(), mediana_peso, df['PESO'])"
   ]
  },
  {
   "cell_type": "code",
   "execution_count": null,
   "metadata": {},
   "outputs": [],
   "source": [
    " np.nanmedian(df['IDADEMAE'])"
   ]
  },
  {
   "cell_type": "code",
   "execution_count": null,
   "metadata": {},
   "outputs": [],
   "source": [
    "# Removendo os outliers de idade\n",
    "df = df[df['IDADEMAE'] < 50]"
   ]
  },
  {
   "cell_type": "code",
   "execution_count": null,
   "metadata": {},
   "outputs": [],
   "source": [
    "idade_2019 = df[df['ano_obito']=='2019']['IDADEMAE']\n",
    "idade_2020 = df[df['ano_obito']=='2020']['IDADEMAE']\n",
    " \n",
    "# plotting first histogram\n",
    "plt.hist(idade_2019)\n",
    " \n",
    "# plotting second histogram\n",
    "plt.hist(idade_2020)\n",
    " \n",
    "# Showing the plot using plt.show()\n",
    "plt.show()"
   ]
  },
  {
   "cell_type": "code",
   "execution_count": null,
   "metadata": {},
   "outputs": [],
   "source": [
    "peso_2019 = df[df['ano_obito']=='2019']['PESO']\n",
    "peso_2020 = df[df['ano_obito']=='2020']['PESO']\n",
    " \n",
    "# plotting first histogram\n",
    "plt.hist(peso_2019)\n",
    " \n",
    "# plotting second histogram\n",
    "plt.hist(peso_2020)\n",
    " \n",
    "# Showing the plot using plt.show()\n",
    "plt.show()"
   ]
  },
  {
   "cell_type": "code",
   "execution_count": null,
   "metadata": {},
   "outputs": [],
   "source": [
    "# Verificar a correlação entre variáveis categóricas e a variável alvo (TIPOBITO)\n",
    "# Isso pode ser feito usando tabelas de contingência ou gráficos de barras empilhadas, dependendo do número de categorias\n",
    "categoricas = [\n",
    "    'ocor_MUNNOMEX', 'ocor_CAPITAL', 'ocor_SIGLA_UF',\n",
    "       'ocor_REGIAO', 'def_escol_mae', 'def_raca_cor', 'def_sexo',\n",
    "      'def_parto', 'def_gravidez', 'def_gestacao'\n",
    "]\n",
    "# Por exemplo:\n",
    "for i in categoricas:\n",
    "    contingency_table = pd.crosstab(index=df[i], columns=df['ano_obito'], normalize='index')\n",
    "    print(f'Variável: {i} \\n\\n{contingency_table}')"
   ]
  },
  {
   "cell_type": "code",
   "execution_count": null,
   "metadata": {},
   "outputs": [],
   "source": [
    "df.to_csv('base_tratada.csv', index=False)"
   ]
  },
  {
   "cell_type": "code",
   "execution_count": null,
   "metadata": {},
   "outputs": [],
   "source": []
  }
 ],
 "metadata": {
  "kernelspec": {
   "display_name": "Python 3",
   "language": "python",
   "name": "python3"
  },
  "language_info": {
   "codemirror_mode": {
    "name": "ipython",
    "version": 3
   },
   "file_extension": ".py",
   "mimetype": "text/x-python",
   "name": "python",
   "nbconvert_exporter": "python",
   "pygments_lexer": "ipython3",
   "version": "3.8.5"
  }
 },
 "nbformat": 4,
 "nbformat_minor": 4
}
