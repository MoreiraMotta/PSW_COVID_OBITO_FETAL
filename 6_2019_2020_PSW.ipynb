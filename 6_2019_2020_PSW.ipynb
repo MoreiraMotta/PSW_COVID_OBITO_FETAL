{
 "cells": [
  {
   "cell_type": "code",
   "execution_count": 1,
   "metadata": {
    "scrolled": true
   },
   "outputs": [
    {
     "name": "stderr",
     "output_type": "stream",
     "text": [
      "C:\\Users\\gabri\\anaconda3\\lib\\site-packages\\statsmodels\\tsa\\base\\tsa_model.py:7: FutureWarning: pandas.Int64Index is deprecated and will be removed from pandas in a future version. Use pandas.Index with the appropriate dtype instead.\n",
      "  from pandas import (to_datetime, Int64Index, DatetimeIndex, Period,\n",
      "C:\\Users\\gabri\\anaconda3\\lib\\site-packages\\statsmodels\\tsa\\base\\tsa_model.py:7: FutureWarning: pandas.Float64Index is deprecated and will be removed from pandas in a future version. Use pandas.Index with the appropriate dtype instead.\n",
      "  from pandas import (to_datetime, Int64Index, DatetimeIndex, Period,\n"
     ]
    }
   ],
   "source": [
    "#Importing Modules\n",
    "from Funcoes_auxiliares.func_aux import *\n",
    "import pandas as pd\n",
    "import numpy as np\n",
    "from scipy.stats import chi2\n",
    "from sklearn.linear_model import LogisticRegression\n",
    "import statsmodels.api as sm\n",
    "from scipy import stats\n",
    "import seaborn as sns\n",
    "import matplotlib.pyplot as plt\n",
    "#plt.style.use(\"ggplot\")\n",
    "#from google.colab import drive\n",
    "from pandas.testing import assert_frame_equal\n",
    "from statsmodels.stats.outliers_influence import variance_inflation_factor\n",
    "from statsmodels.tools.tools import add_constant\n",
    "from tabulate import tabulate\n",
    "import warnings\n",
    "from Funcoes_auxiliares.func_aux import *\n",
    "from imblearn.under_sampling import RandomUnderSampler, TomekLinks\n",
    "from sklearn.metrics import classification_report, confusion_matrix\n",
    "import time\n",
    "warnings.filterwarnings(\"ignore\")\n"
   ]
  },
  {
   "cell_type": "code",
   "execution_count": 2,
   "metadata": {},
   "outputs": [],
   "source": [
    "df = pd.read_csv('base_limpa/base_unificada_limpa.csv')\n",
    "periodo='2019-2020'\n",
    "df = df.loc[df['ano_evento'].isin([2019, 2020])]\n",
    "df = df.reset_index(drop=True)\n",
    "df['ANO'] = np.where(df['ano_evento']==2019, 0, 1)\n",
    "# Variável PRM\n",
    "df['PRM'] = np.where(df['idade_gestacao_faixa'].isin(['entre_37_39', 'entre_40_42']), 0, 1)\n"
   ]
  },
  {
   "cell_type": "code",
   "execution_count": 3,
   "metadata": {},
   "outputs": [],
   "source": [
    "df['cat_peso_calc'] = [\n",
    "    func_peso_calculado(sexo, peso, int(round(semana_gest,0))) for sexo, peso, semana_gest in zip(df['SEXO'], df['PESO'], df['SEMAGESTAC']) \n",
    "]"
   ]
  },
  {
   "cell_type": "code",
   "execution_count": 4,
   "metadata": {},
   "outputs": [
    {
     "data": {
      "text/plain": [
       "AIG    3848802\n",
       "PIG     920924\n",
       "GIG     646277\n",
       "Name: cat_peso_calc, dtype: int64"
      ]
     },
     "execution_count": 4,
     "metadata": {},
     "output_type": "execute_result"
    }
   ],
   "source": [
    "df['cat_peso_calc'].value_counts()"
   ]
  },
  {
   "cell_type": "code",
   "execution_count": 5,
   "metadata": {},
   "outputs": [],
   "source": [
    "aa = df[df['FLAG_BASE']=='SIM_DOFET']"
   ]
  },
  {
   "cell_type": "code",
   "execution_count": 6,
   "metadata": {},
   "outputs": [
    {
     "data": {
      "text/plain": [
       "array(['entre_20_34', 'menor_igual_19', 'entre_35_39', 'maior_igual_40'],\n",
       "      dtype=object)"
      ]
     },
     "execution_count": 6,
     "metadata": {},
     "output_type": "execute_result"
    }
   ],
   "source": [
    "pd.unique(aa['idademae_faixa'])\n",
    "#idademae_faixa\n",
    "#idade_gestacao_faixa"
   ]
  },
  {
   "cell_type": "markdown",
   "metadata": {},
   "source": [
    "# Modelo 2"
   ]
  },
  {
   "cell_type": "code",
   "execution_count": 7,
   "metadata": {},
   "outputs": [],
   "source": [
    "variaveis_1 = [  \n",
    "     'ANO'\n",
    "    , 'PRM'\n",
    "    , 'evento_REGIAO'\n",
    "    , 'idademae_faixa'\n",
    "    , 'escolaridade_mae'\n",
    "    , 'tipo_gravidez'\n",
    "    , 'idade_gestacao_faixa'\n",
    "    , 'def_sexo'\n",
    "    , 'peso_faixa'\n",
    "    , 'cat_peso_calc'\n",
    "    , 'FLAG_BASE'\n",
    "    #, 'sum_CENTROBS'\n",
    "    #, 'sum_QTINST34'\n",
    "    #, 'sum_QTINST35'\n",
    "    #, 'sum_QTINST36'\n",
    "    #, 'sum_QTINST37'\n",
    "    #, 'sum_QTLEIT34'\n",
    "    #, 'sum_QTLEIT38'\n",
    "    #, 'sum_QTLEIT39'\n",
    "    #, 'sum_QTLEIT40'\n",
    "    #, 'sum_CENTRNEO'\n",
    "    #, 'TP_UNID_5'\n",
    "    #, 'TP_UNID_7'\n",
    "    #, 'TP_UNID_15'\n",
    "    #, 'TP_UNID_36'\n",
    "    #, 'TP_UNID_61'\n",
    "    ]\n",
    "df_mod = df[variaveis_1]"
   ]
  },
  {
   "cell_type": "code",
   "execution_count": null,
   "metadata": {},
   "outputs": [],
   "source": [
    "# Categorizando as novas variáveis. \n",
    "# df_mod['cat_CENTROBS'] = [1 if i > 0 else 0 for i in df_mod['sum_CENTROBS']]\n",
    "# df_mod['cat_QTINST34'] = [1 if i > 0 else 0 for i in df_mod['sum_QTINST34']]\n",
    "# df_mod['cat_QTINST35'] = [1 if i > 0 else 0 for i in df_mod['sum_QTINST35']]\n",
    "# df_mod['cat_QTINST36'] = [1 if i > 0 else 0 for i in df_mod['sum_QTINST36']]\n",
    "# df_mod['cat_QTINST37'] = [1 if i > 0 else 0 for i in df_mod['sum_QTINST37']]\n",
    "# df_mod['cat_QTLEIT34'] = [1 if i > 0 else 0 for i in df_mod['sum_QTLEIT34']]\n",
    "# df_mod['cat_QTLEIT38'] = [1 if i > 0 else 0 for i in df_mod['sum_QTLEIT38']]\n",
    "# df_mod['cat_QTLEIT39'] = [1 if i > 0 else 0 for i in df_mod['sum_QTLEIT39']]\n",
    "# df_mod['cat_QTLEIT40'] = [1 if i > 0 else 0 for i in df_mod['sum_QTLEIT40']]\n",
    "# df_mod['cat_CENTRNEO'] = [1 if i > 0 else 0 for i in df_mod['sum_CENTRNEO']]\n",
    "# df_mod['cat_TP_UNID_5'] = [1 if i > 0 else 0 for i in df_mod['TP_UNID_5']]\n",
    "# df_mod['cat_TP_UNID_7'] = [1 if i > 0 else 0 for i in df_mod['TP_UNID_7']]\n",
    "# df_mod['cat_TP_UNID_15'] = [1 if i > 0 else 0 for i in df_mod['TP_UNID_15']]\n",
    "# df_mod['cat_TP_UNID_36'] = [1 if i > 0 else 0 for i in df_mod['TP_UNID_36']]\n",
    "# df_mod['cat_TP_UNID_61'] = [1 if i > 0 else 0 for i in df_mod['TP_UNID_61']]"
   ]
  },
  {
   "cell_type": "code",
   "execution_count": null,
   "metadata": {},
   "outputs": [],
   "source": [
    "#df_mod = df_mod.drop(\n",
    "#    columns=[\n",
    "#        'sum_CENTROBS'\n",
    "#        ,'sum_QTINST34'\n",
    "#        ,'sum_QTINST35'\n",
    "#        ,'sum_QTINST36'\n",
    "#        ,'sum_QTINST37'\n",
    "#        ,'sum_QTLEIT34'\n",
    "#        ,'sum_QTLEIT38'\n",
    "#        ,'sum_QTLEIT39'\n",
    "#        ,'sum_QTLEIT40'\n",
    "#        ,'sum_CENTRNEO'\n",
    "#        ,'TP_UNID_5'\n",
    "#        ,'TP_UNID_7'\n",
    "#        ,'TP_UNID_15'\n",
    "#        ,'TP_UNID_36'\n",
    "#        ,'TP_UNID_61'\n",
    "#    ]\n",
    "#)"
   ]
  },
  {
   "cell_type": "code",
   "execution_count": 8,
   "metadata": {},
   "outputs": [],
   "source": [
    "df_mod = pd.get_dummies(df_mod)"
   ]
  },
  {
   "cell_type": "code",
   "execution_count": 9,
   "metadata": {},
   "outputs": [],
   "source": [
    "# OBITO contagem\n",
    "NPT = (df_mod['FLAG_BASE_SIM_DOFET']==1).sum()\n",
    "NT = (df_mod['FLAG_BASE_SIM_DOFET']==0).sum()"
   ]
  },
  {
   "cell_type": "code",
   "execution_count": 10,
   "metadata": {},
   "outputs": [
    {
     "name": "stdout",
     "output_type": "stream",
     "text": [
      "<class 'pandas.core.frame.DataFrame'>\n",
      "RangeIndex: 5416003 entries, 0 to 5416002\n",
      "Data columns (total 34 columns):\n",
      " #   Column                             Dtype\n",
      "---  ------                             -----\n",
      " 0   ANO                                int32\n",
      " 1   PRM                                int32\n",
      " 2   evento_REGIAO_Centro-Oeste         uint8\n",
      " 3   evento_REGIAO_Nordeste             uint8\n",
      " 4   evento_REGIAO_Norte                uint8\n",
      " 5   evento_REGIAO_Sudeste              uint8\n",
      " 6   evento_REGIAO_Sul                  uint8\n",
      " 7   idademae_faixa_entre_20_34         uint8\n",
      " 8   idademae_faixa_entre_35_39         uint8\n",
      " 9   idademae_faixa_maior_igual_40      uint8\n",
      " 10  idademae_faixa_menor_igual_19      uint8\n",
      " 11  escolaridade_mae_Ensino_medio      uint8\n",
      " 12  escolaridade_mae_Ensino_superior   uint8\n",
      " 13  escolaridade_mae_Fundamental       uint8\n",
      " 14  escolaridade_mae_Sem_escolaridade  uint8\n",
      " 15  tipo_gravidez_Multipla             uint8\n",
      " 16  tipo_gravidez_Unica                uint8\n",
      " 17  idade_gestacao_faixa_entre_22_27   uint8\n",
      " 18  idade_gestacao_faixa_entre_28_36   uint8\n",
      " 19  idade_gestacao_faixa_entre_37_39   uint8\n",
      " 20  idade_gestacao_faixa_entre_40_42   uint8\n",
      " 21  def_sexo_Feminino                  uint8\n",
      " 22  def_sexo_Masculino                 uint8\n",
      " 23  peso_faixa_entre_1500_2499         uint8\n",
      " 24  peso_faixa_entre_2500_3500         uint8\n",
      " 25  peso_faixa_entre_3500_3999         uint8\n",
      " 26  peso_faixa_entre_500_1499          uint8\n",
      " 27  peso_faixa_maior_igual_4000        uint8\n",
      " 28  peso_faixa_menor_500               uint8\n",
      " 29  cat_peso_calc_AIG                  uint8\n",
      " 30  cat_peso_calc_GIG                  uint8\n",
      " 31  cat_peso_calc_PIG                  uint8\n",
      " 32  FLAG_BASE_SIM_DOFET                uint8\n",
      " 33  FLAG_BASE_SINASC                   uint8\n",
      "dtypes: int32(2), uint8(32)\n",
      "memory usage: 206.6 MB\n"
     ]
    }
   ],
   "source": [
    "df_mod.info()"
   ]
  },
  {
   "cell_type": "code",
   "execution_count": 11,
   "metadata": {},
   "outputs": [
    {
     "name": "stdout",
     "output_type": "stream",
     "text": [
      "ANO\n",
      "PRM\n",
      "evento_REGIAO_Centro-Oeste\n",
      "evento_REGIAO_Nordeste\n",
      "evento_REGIAO_Norte\n",
      "evento_REGIAO_Sudeste\n",
      "evento_REGIAO_Sul\n",
      "idademae_faixa_entre_20_34\n",
      "idademae_faixa_entre_35_39\n",
      "idademae_faixa_maior_igual_40\n",
      "idademae_faixa_menor_igual_19\n",
      "escolaridade_mae_Ensino_medio\n",
      "escolaridade_mae_Ensino_superior\n",
      "escolaridade_mae_Fundamental\n",
      "escolaridade_mae_Sem_escolaridade\n",
      "tipo_gravidez_Multipla\n",
      "tipo_gravidez_Unica\n",
      "idade_gestacao_faixa_entre_22_27\n",
      "idade_gestacao_faixa_entre_28_36\n",
      "idade_gestacao_faixa_entre_37_39\n",
      "idade_gestacao_faixa_entre_40_42\n",
      "def_sexo_Feminino\n",
      "def_sexo_Masculino\n",
      "peso_faixa_entre_1500_2499\n",
      "peso_faixa_entre_2500_3500\n",
      "peso_faixa_entre_3500_3999\n",
      "peso_faixa_entre_500_1499\n",
      "peso_faixa_maior_igual_4000\n",
      "peso_faixa_menor_500\n",
      "cat_peso_calc_AIG\n",
      "cat_peso_calc_GIG\n",
      "cat_peso_calc_PIG\n",
      "FLAG_BASE_SIM_DOFET\n",
      "FLAG_BASE_SINASC\n"
     ]
    }
   ],
   "source": [
    "for i in df_mod.columns:\n",
    "    print(i)"
   ]
  },
  {
   "cell_type": "code",
   "execution_count": 13,
   "metadata": {},
   "outputs": [
    {
     "name": "stdout",
     "output_type": "stream",
     "text": [
      "1    53726\n",
      "0    53726\n",
      "Name: FLAG_BASE_SIM_DOFET, dtype: int64\n"
     ]
    }
   ],
   "source": [
    "# AAS Sinasc\n",
    "# Separando as classes\n",
    "minority_class = df_mod[df_mod['FLAG_BASE_SIM_DOFET'] == 1]\n",
    "majority_class = df_mod[df_mod['FLAG_BASE_SIM_DOFET'] == 0]\n",
    "\n",
    "# Reduzindo a classe majoritária para ser 50% maior que a minoritária\n",
    "majority_class_sampled = majority_class.sample(n=len(minority_class), random_state=42)\n",
    "\n",
    "# Concatenando as duas classes\n",
    "df_mod = pd.concat([minority_class, majority_class_sampled]).reset_index(drop=True)\n",
    "# Checando o balanceamento\n",
    "print(df_mod['FLAG_BASE_SIM_DOFET'].value_counts())\n"
   ]
  },
  {
   "cell_type": "code",
   "execution_count": 14,
   "metadata": {},
   "outputs": [
    {
     "name": "stdout",
     "output_type": "stream",
     "text": [
      "----------------------------------------------------------------\n",
      "USING PROPENSITY SCORE TO SELECT/MATCH SAMPLES\n",
      "----------------------------------------------------------------\n",
      "N without missing  : 107452\n",
      "Treated samples    : 52980 49.31 %\n",
      "Controled samples  : 54472 50.69 %\n",
      "----------------------------------------------------------------\n",
      "SELECTED/MATCHET SAMPLES\n",
      "----------------------------------------------------------------\n",
      "% Selected         : 78.69 %\n",
      "N selected         : 84552\n",
      "Treated selected   : 41596 49.2 %\n",
      "Controled selected : 42956 50.8 %\n",
      "----------------------------------------------------------------\n",
      "\n"
     ]
    }
   ],
   "source": [
    "# Modelo\n",
    "#Defining covariates\n",
    "var_model=[\n",
    "     'evento_REGIAO_Centro-Oeste'\n",
    "    , 'evento_REGIAO_Nordeste'\n",
    "    , 'evento_REGIAO_Norte'\n",
    "    #, 'evento_REGIAO_Sudeste'\n",
    "    , 'evento_REGIAO_Sul'\n",
    "    #, 'idademae_faixa_entre_20_34'\n",
    "    , 'idademae_faixa_entre_35_39'\n",
    "    , 'idademae_faixa_maior_igual_40'\n",
    "    , 'idademae_faixa_menor_igual_19'\n",
    "    , 'escolaridade_mae_Ensino_medio'\n",
    "    #, 'escolaridade_mae_Ensino_superior'\n",
    "    , 'escolaridade_mae_Fundamental'\n",
    "    , 'escolaridade_mae_Sem_escolaridade'\n",
    "    , 'tipo_gravidez_Multipla'\n",
    "    #, 'tipo_gravidez_Unica'\n",
    "    #, 'PRM'\n",
    "    #, 'def_sexo_Feminino'\n",
    "    , 'def_sexo_Masculino'\n",
    "    #, 'cat_peso_calc_AIG'\n",
    "    , 'cat_peso_calc_GIG'\n",
    "    , 'cat_peso_calc_PIG'\n",
    "    #, 'peso_faixa_entre_1500_2499'\n",
    "    #, 'peso_faixa_entre_2500_3500'\n",
    "    #, 'peso_faixa_entre_3500_3999'\n",
    "    #, 'peso_faixa_entre_500_1499'\n",
    "    #, 'peso_faixa_maior_igual_4000'\n",
    "    #, 'peso_faixa_menor_500'\n",
    "    #,'cat_CENTROBS'\n",
    "    #, 'cat_QTINST34'\n",
    "    #,'cat_QTINST35'\n",
    "    #,'cat_QTINST36'\n",
    "    #, 'cat_QTINST37'\n",
    "    #, 'cat_QTLEIT34'\n",
    "    #, 'cat_QTLEIT38'\n",
    "    #, 'cat_QTLEIT39'\n",
    "    #, 'cat_QTLEIT40'\n",
    "    #, 'cat_CENTRNEO'\n",
    "    #, 'cat_TP_UNID_5'\n",
    "    #, 'cat_TP_UNID_7'\n",
    "    #, 'cat_TP_UNID_15'\n",
    "    #, 'cat_TP_UNID_36'\n",
    "]\n",
    "\n",
    "X = df_mod[var_model].values\n",
    "\n",
    "## FIRST REGRESSION\n",
    "y = df_mod[['ANO']].values\n",
    "clf = LogisticRegression(random_state=0, max_iter=2000).fit(X, y)\n",
    "df_mod = df_mod.assign(PROPENSITY_SCORE=clf.predict_proba(X)[:, 1])\n",
    "\n",
    "#USING PROPENSITY SCORE TO SELECT SAMPLES TO SECOND REGRESSION\n",
    "psw_base=df_mod[((df_mod['PROPENSITY_SCORE']>df_mod['PROPENSITY_SCORE'].quantile(0.1)) &\n",
    "                 (df_mod['PROPENSITY_SCORE']<df_mod['PROPENSITY_SCORE'].quantile(0.9)))]\n",
    "\n",
    "#COUNTING\n",
    "po=len(df_mod)\n",
    "tpo=len(df_mod[df_mod['ANO']==1])\n",
    "cpo=len(df_mod[df_mod['ANO']==0])\n",
    "pa=len(psw_base)\n",
    "tpa=len(psw_base[psw_base['ANO']==1])\n",
    "cpa=len(psw_base[psw_base['ANO']==0])\n",
    "\n",
    "print('----------------------------------------------------------------')\n",
    "print('USING PROPENSITY SCORE TO SELECT/MATCH SAMPLES')\n",
    "print('----------------------------------------------------------------')\n",
    "print('N without missing  :', po)\n",
    "print('Treated samples    :', tpo,np.round(100*tpo/po,2),'%')\n",
    "print('Controled samples  :', cpo,np.round(100*cpo/po,2),'%')\n",
    "print('----------------------------------------------------------------')\n",
    "print('SELECTED/MATCHET SAMPLES')\n",
    "print('----------------------------------------------------------------')\n",
    "print('% Selected         :', np.round(100*pa/po,2),'%')\n",
    "print('N selected         :', pa)\n",
    "print('Treated selected   :', tpa,np.round(100*tpa/pa,2),'%')\n",
    "print('Controled selected :', cpa,np.round(100*cpa/pa,2),'%')\n",
    "print('----------------------------------------------------------------')\n",
    "print('')"
   ]
  },
  {
   "cell_type": "code",
   "execution_count": 40,
   "metadata": {},
   "outputs": [
    {
     "ename": "ValueError",
     "evalue": "All arrays must be of the same length",
     "output_type": "error",
     "traceback": [
      "\u001b[1;31m---------------------------------------------------------------------------\u001b[0m",
      "\u001b[1;31mValueError\u001b[0m                                Traceback (most recent call last)",
      "\u001b[1;32m<ipython-input-40-e69d42b75f27>\u001b[0m in \u001b[0;36m<module>\u001b[1;34m\u001b[0m\n\u001b[0;32m     58\u001b[0m \u001b[1;33m\u001b[0m\u001b[0m\n\u001b[0;32m     59\u001b[0m \u001b[1;31m# Coeficientes do modelo\u001b[0m\u001b[1;33m\u001b[0m\u001b[1;33m\u001b[0m\u001b[1;33m\u001b[0m\u001b[0m\n\u001b[1;32m---> 60\u001b[1;33m coefficients = pd.DataFrame({\n\u001b[0m\u001b[0;32m     61\u001b[0m     \u001b[1;34m'Variable'\u001b[0m\u001b[1;33m:\u001b[0m \u001b[1;33m[\u001b[0m\u001b[1;34m'Intercept'\u001b[0m\u001b[1;33m]\u001b[0m \u001b[1;33m+\u001b[0m \u001b[0maux\u001b[0m \u001b[1;33m+\u001b[0m \u001b[0mvar_model_2\u001b[0m\u001b[1;33m,\u001b[0m\u001b[1;33m\u001b[0m\u001b[1;33m\u001b[0m\u001b[0m\n\u001b[0;32m     62\u001b[0m     \u001b[1;34m'Coefficient'\u001b[0m\u001b[1;33m:\u001b[0m \u001b[0mnp\u001b[0m\u001b[1;33m.\u001b[0m\u001b[0mhstack\u001b[0m\u001b[1;33m(\u001b[0m\u001b[1;33m[\u001b[0m\u001b[0mmodel\u001b[0m\u001b[1;33m.\u001b[0m\u001b[0mintercept_\u001b[0m\u001b[1;33m,\u001b[0m \u001b[0mmodel\u001b[0m\u001b[1;33m.\u001b[0m\u001b[0mcoef_\u001b[0m\u001b[1;33m.\u001b[0m\u001b[0mflatten\u001b[0m\u001b[1;33m(\u001b[0m\u001b[1;33m)\u001b[0m\u001b[1;33m]\u001b[0m\u001b[1;33m)\u001b[0m\u001b[1;33m\u001b[0m\u001b[1;33m\u001b[0m\u001b[0m\n",
      "\u001b[1;32m~\\anaconda3\\lib\\site-packages\\pandas\\core\\frame.py\u001b[0m in \u001b[0;36m__init__\u001b[1;34m(self, data, index, columns, dtype, copy)\u001b[0m\n\u001b[0;32m    634\u001b[0m         \u001b[1;32melif\u001b[0m \u001b[0misinstance\u001b[0m\u001b[1;33m(\u001b[0m\u001b[0mdata\u001b[0m\u001b[1;33m,\u001b[0m \u001b[0mdict\u001b[0m\u001b[1;33m)\u001b[0m\u001b[1;33m:\u001b[0m\u001b[1;33m\u001b[0m\u001b[1;33m\u001b[0m\u001b[0m\n\u001b[0;32m    635\u001b[0m             \u001b[1;31m# GH#38939 de facto copy defaults to False only in non-dict cases\u001b[0m\u001b[1;33m\u001b[0m\u001b[1;33m\u001b[0m\u001b[1;33m\u001b[0m\u001b[0m\n\u001b[1;32m--> 636\u001b[1;33m             \u001b[0mmgr\u001b[0m \u001b[1;33m=\u001b[0m \u001b[0mdict_to_mgr\u001b[0m\u001b[1;33m(\u001b[0m\u001b[0mdata\u001b[0m\u001b[1;33m,\u001b[0m \u001b[0mindex\u001b[0m\u001b[1;33m,\u001b[0m \u001b[0mcolumns\u001b[0m\u001b[1;33m,\u001b[0m \u001b[0mdtype\u001b[0m\u001b[1;33m=\u001b[0m\u001b[0mdtype\u001b[0m\u001b[1;33m,\u001b[0m \u001b[0mcopy\u001b[0m\u001b[1;33m=\u001b[0m\u001b[0mcopy\u001b[0m\u001b[1;33m,\u001b[0m \u001b[0mtyp\u001b[0m\u001b[1;33m=\u001b[0m\u001b[0mmanager\u001b[0m\u001b[1;33m)\u001b[0m\u001b[1;33m\u001b[0m\u001b[1;33m\u001b[0m\u001b[0m\n\u001b[0m\u001b[0;32m    637\u001b[0m         \u001b[1;32melif\u001b[0m \u001b[0misinstance\u001b[0m\u001b[1;33m(\u001b[0m\u001b[0mdata\u001b[0m\u001b[1;33m,\u001b[0m \u001b[0mma\u001b[0m\u001b[1;33m.\u001b[0m\u001b[0mMaskedArray\u001b[0m\u001b[1;33m)\u001b[0m\u001b[1;33m:\u001b[0m\u001b[1;33m\u001b[0m\u001b[1;33m\u001b[0m\u001b[0m\n\u001b[0;32m    638\u001b[0m             \u001b[1;32mimport\u001b[0m \u001b[0mnumpy\u001b[0m\u001b[1;33m.\u001b[0m\u001b[0mma\u001b[0m\u001b[1;33m.\u001b[0m\u001b[0mmrecords\u001b[0m \u001b[1;32mas\u001b[0m \u001b[0mmrecords\u001b[0m\u001b[1;33m\u001b[0m\u001b[1;33m\u001b[0m\u001b[0m\n",
      "\u001b[1;32m~\\anaconda3\\lib\\site-packages\\pandas\\core\\internals\\construction.py\u001b[0m in \u001b[0;36mdict_to_mgr\u001b[1;34m(data, index, columns, dtype, typ, copy)\u001b[0m\n\u001b[0;32m    500\u001b[0m         \u001b[1;31m# TODO: can we get rid of the dt64tz special case above?\u001b[0m\u001b[1;33m\u001b[0m\u001b[1;33m\u001b[0m\u001b[1;33m\u001b[0m\u001b[0m\n\u001b[0;32m    501\u001b[0m \u001b[1;33m\u001b[0m\u001b[0m\n\u001b[1;32m--> 502\u001b[1;33m     \u001b[1;32mreturn\u001b[0m \u001b[0marrays_to_mgr\u001b[0m\u001b[1;33m(\u001b[0m\u001b[0marrays\u001b[0m\u001b[1;33m,\u001b[0m \u001b[0mcolumns\u001b[0m\u001b[1;33m,\u001b[0m \u001b[0mindex\u001b[0m\u001b[1;33m,\u001b[0m \u001b[0mdtype\u001b[0m\u001b[1;33m=\u001b[0m\u001b[0mdtype\u001b[0m\u001b[1;33m,\u001b[0m \u001b[0mtyp\u001b[0m\u001b[1;33m=\u001b[0m\u001b[0mtyp\u001b[0m\u001b[1;33m,\u001b[0m \u001b[0mconsolidate\u001b[0m\u001b[1;33m=\u001b[0m\u001b[0mcopy\u001b[0m\u001b[1;33m)\u001b[0m\u001b[1;33m\u001b[0m\u001b[1;33m\u001b[0m\u001b[0m\n\u001b[0m\u001b[0;32m    503\u001b[0m \u001b[1;33m\u001b[0m\u001b[0m\n\u001b[0;32m    504\u001b[0m \u001b[1;33m\u001b[0m\u001b[0m\n",
      "\u001b[1;32m~\\anaconda3\\lib\\site-packages\\pandas\\core\\internals\\construction.py\u001b[0m in \u001b[0;36marrays_to_mgr\u001b[1;34m(arrays, columns, index, dtype, verify_integrity, typ, consolidate)\u001b[0m\n\u001b[0;32m    118\u001b[0m         \u001b[1;31m# figure out the index, if necessary\u001b[0m\u001b[1;33m\u001b[0m\u001b[1;33m\u001b[0m\u001b[1;33m\u001b[0m\u001b[0m\n\u001b[0;32m    119\u001b[0m         \u001b[1;32mif\u001b[0m \u001b[0mindex\u001b[0m \u001b[1;32mis\u001b[0m \u001b[1;32mNone\u001b[0m\u001b[1;33m:\u001b[0m\u001b[1;33m\u001b[0m\u001b[1;33m\u001b[0m\u001b[0m\n\u001b[1;32m--> 120\u001b[1;33m             \u001b[0mindex\u001b[0m \u001b[1;33m=\u001b[0m \u001b[0m_extract_index\u001b[0m\u001b[1;33m(\u001b[0m\u001b[0marrays\u001b[0m\u001b[1;33m)\u001b[0m\u001b[1;33m\u001b[0m\u001b[1;33m\u001b[0m\u001b[0m\n\u001b[0m\u001b[0;32m    121\u001b[0m         \u001b[1;32melse\u001b[0m\u001b[1;33m:\u001b[0m\u001b[1;33m\u001b[0m\u001b[1;33m\u001b[0m\u001b[0m\n\u001b[0;32m    122\u001b[0m             \u001b[0mindex\u001b[0m \u001b[1;33m=\u001b[0m \u001b[0mensure_index\u001b[0m\u001b[1;33m(\u001b[0m\u001b[0mindex\u001b[0m\u001b[1;33m)\u001b[0m\u001b[1;33m\u001b[0m\u001b[1;33m\u001b[0m\u001b[0m\n",
      "\u001b[1;32m~\\anaconda3\\lib\\site-packages\\pandas\\core\\internals\\construction.py\u001b[0m in \u001b[0;36m_extract_index\u001b[1;34m(data)\u001b[0m\n\u001b[0;32m    672\u001b[0m             \u001b[0mlengths\u001b[0m \u001b[1;33m=\u001b[0m \u001b[0mlist\u001b[0m\u001b[1;33m(\u001b[0m\u001b[0mset\u001b[0m\u001b[1;33m(\u001b[0m\u001b[0mraw_lengths\u001b[0m\u001b[1;33m)\u001b[0m\u001b[1;33m)\u001b[0m\u001b[1;33m\u001b[0m\u001b[1;33m\u001b[0m\u001b[0m\n\u001b[0;32m    673\u001b[0m             \u001b[1;32mif\u001b[0m \u001b[0mlen\u001b[0m\u001b[1;33m(\u001b[0m\u001b[0mlengths\u001b[0m\u001b[1;33m)\u001b[0m \u001b[1;33m>\u001b[0m \u001b[1;36m1\u001b[0m\u001b[1;33m:\u001b[0m\u001b[1;33m\u001b[0m\u001b[1;33m\u001b[0m\u001b[0m\n\u001b[1;32m--> 674\u001b[1;33m                 \u001b[1;32mraise\u001b[0m \u001b[0mValueError\u001b[0m\u001b[1;33m(\u001b[0m\u001b[1;34m\"All arrays must be of the same length\"\u001b[0m\u001b[1;33m)\u001b[0m\u001b[1;33m\u001b[0m\u001b[1;33m\u001b[0m\u001b[0m\n\u001b[0m\u001b[0;32m    675\u001b[0m \u001b[1;33m\u001b[0m\u001b[0m\n\u001b[0;32m    676\u001b[0m             \u001b[1;32mif\u001b[0m \u001b[0mhave_dicts\u001b[0m\u001b[1;33m:\u001b[0m\u001b[1;33m\u001b[0m\u001b[1;33m\u001b[0m\u001b[0m\n",
      "\u001b[1;31mValueError\u001b[0m: All arrays must be of the same length"
     ]
    }
   ],
   "source": [
    "## SECOND REGRESSION\n",
    "aux=['ANO']\n",
    "w =psw_base['ANO']/psw_base['PROPENSITY_SCORE'] + ((1-psw_base['ANO'])/(1-psw_base['PROPENSITY_SCORE']))\n",
    "var_model_2 = [\n",
    "      'evento_REGIAO_Centro-Oeste'\n",
    "    , 'evento_REGIAO_Nordeste'\n",
    "    , 'evento_REGIAO_Norte'\n",
    "    #, 'evento_REGIAO_Sudeste'\n",
    "    , 'evento_REGIAO_Sul'\n",
    "    #, 'idademae_faixa_entre_20_34'\n",
    "    , 'idademae_faixa_entre_35_39'\n",
    "    , 'idademae_faixa_maior_igual_40'\n",
    "    , 'idademae_faixa_menor_igual_19'\n",
    "    , 'escolaridade_mae_Ensino_medio'\n",
    "    #, 'escolaridade_mae_Ensino_superior'\n",
    "    , 'escolaridade_mae_Fundamental'\n",
    "    , 'escolaridade_mae_Sem_escolaridade'\n",
    "    , 'tipo_gravidez_Multipla'\n",
    "    #, 'tipo_gravidez_Unica'\n",
    "    #, 'PRM'\n",
    "    #, 'def_sexo_Feminino'\n",
    "    #, 'def_sexo_Masculino'\n",
    "    #, 'cat_peso_calc_AIG'\n",
    "    , 'cat_peso_calc_GIG'\n",
    "    , 'cat_peso_calc_PIG'\n",
    "    #, 'peso_faixa_entre_1500_2499'\n",
    "    #, 'peso_faixa_entre_2500_3500'\n",
    "    #, 'peso_faixa_entre_3500_3999'\n",
    "    #, 'peso_faixa_entre_500_1499'\n",
    "    #, 'peso_faixa_maior_igual_4000'\n",
    "    #, 'peso_faixa_menor_500'\n",
    "    #,'cat_CENTROBS'\n",
    "    #, 'cat_QTINST34'\n",
    "    #,'cat_QTINST35'\n",
    "    #,'cat_QTINST36'\n",
    "    #, 'cat_QTINST37'\n",
    "    #, 'cat_QTLEIT34'\n",
    "    #, 'cat_QTLEIT38'\n",
    "    #, 'cat_QTLEIT39'\n",
    "    #, 'cat_QTLEIT40'\n",
    "    #, 'cat_CENTRNEO'\n",
    "    #, 'cat_TP_UNID_5'\n",
    "    #, 'cat_TP_UNID_7'\n",
    "    #, 'cat_TP_UNID_15'\n",
    "    #, 'cat_TP_UNID_36'\n",
    "]\n",
    "\n",
    "X = psw_base[aux+var_model_2].values\n",
    "y = psw_base[['FLAG_BASE_SIM_DOFET']].values\n",
    "\n",
    "X_ANO = sm.add_constant(X)\n",
    "#clf_ano = sm.Logit(y, X_ANO,weights=w).fit(maxiter=1000, method='newton')\n",
    "#aux=['Intercept','ANO']\n",
    "\n",
    "# Ajustar o modelo com regularização L2\n",
    "model = LogisticRegression(penalty='l2', C=1.0, solver='lbfgs', max_iter=1000)\n",
    "model.fit(X_ANO, y, sample_weight=w)\n",
    "\n",
    "# Coeficientes do modelo\n",
    "coefficients = pd.DataFrame({\n",
    "    'Variable': ['Intercept'] + aux + var_model_2,\n",
    "    'Coefficient': np.hstack([model.intercept_, model.coef_.flatten()])\n",
    "})\n",
    "\n",
    "# Calcular os odds ratios e intervalos de confiança\n",
    "coefficients['Odds_Ratio'] = np.exp(coefficients['Coefficient'])\n",
    "coefficients['p-values'] = None  # Não disponível diretamente no scikit-learn\n",
    "\n",
    "# Nota: Para os intervalos de confiança, você precisaria de uma abordagem diferente, pois scikit-learn não fornece isso diretamente.\n",
    "\n",
    "print('----------------------------------------------------------------')\n",
    "print('PSW REPORT', 'Seu Período')  # Substitua 'Seu Período' pelo valor real\n",
    "print('----------------------------------------------------------------')\n",
    "print(tabulate(coefficients, headers='keys', tablefmt='grid'))\n",
    "print('----------------------------------------------------------------')\n",
    "\n",
    "# Plote a distribuição dos pesos\n",
    "plt.hist(w, bins=50)\n",
    "plt.xlabel('Weights')\n",
    "plt.ylabel('Frequency')\n",
    "plt.title('Distribution of Weights')\n",
    "plt.show()"
   ]
  },
  {
   "cell_type": "code",
   "execution_count": 27,
   "metadata": {},
   "outputs": [
    {
     "data": {
      "image/png": "[encoded data removed]",
      "text/plain": [
       "<Figure size 432x288 with 1 Axes>"
      ]
     },
     "metadata": {
      "needs_background": "light"
     },
     "output_type": "display_data"
    }
   ],
   "source": [
    "plt.hist(w, bins=50)\n",
    "plt.xlabel('Weights')\n",
    "plt.ylabel('Frequency')\n",
    "plt.title('Distribution of Weights')\n",
    "plt.show()"
   ]
  },
  {
   "cell_type": "code",
   "execution_count": 23,
   "metadata": {},
   "outputs": [
    {
     "data": {
      "text/plain": [
       "0    45408\n",
       "1    39144\n",
       "Name: FLAG_BASE_SIM_DOFET, dtype: int64"
      ]
     },
     "execution_count": 23,
     "metadata": {},
     "output_type": "execute_result"
    }
   ],
   "source": [
    "psw_base['FLAG_BASE_SIM_DOFET'].value_counts()"
   ]
  },
  {
   "cell_type": "code",
   "execution_count": 29,
   "metadata": {},
   "outputs": [
    {
     "name": "stdout",
     "output_type": "stream",
     "text": [
      "count    84552.000000\n",
      "mean         1.999791\n",
      "std          0.039580\n",
      "min          1.911185\n",
      "25%          1.974949\n",
      "50%          1.996901\n",
      "75%          2.023567\n",
      "max          2.097472\n",
      "dtype: float64\n"
     ]
    }
   ],
   "source": [
    "print(w.describe())"
   ]
  },
  {
   "cell_type": "code",
   "execution_count": null,
   "metadata": {},
   "outputs": [],
   "source": []
  },
  {
   "cell_type": "code",
   "execution_count": null,
   "metadata": {},
   "outputs": [],
   "source": []
  },
  {
   "cell_type": "code",
   "execution_count": null,
   "metadata": {},
   "outputs": [],
   "source": []
  },
  {
   "cell_type": "code",
   "execution_count": null,
   "metadata": {},
   "outputs": [],
   "source": [
    "### SECOND REGRESSION\n",
    "##PSW weights\n",
    "##w =psw_base['ANO']/psw_base['PROPENSITY_SCORE'] + ((1-psw_base['ANO'])/(1-psw_base['PROPENSITY_SCORE']))\n",
    "## PSW weights\n",
    "#psw_base['weights'] =  psw_base['ANO'] / psw_base['PROPENSITY_SCORE'] + ((1-psw_base['ANO']) / (1-psw_base['PROPENSITY_SCORE']))\n",
    "#aux=['ANO']\n",
    "#var_model_2 = [\n",
    "#      'evento_REGIAO_Centro-Oeste'\n",
    "#    , 'evento_REGIAO_Nordeste'\n",
    "#    , 'evento_REGIAO_Norte'\n",
    "#    #, 'evento_REGIAO_Sudeste'\n",
    "#    , 'evento_REGIAO_Sul'\n",
    "#    #, 'idademae_faixa_entre_20_34'\n",
    "#    , 'idademae_faixa_entre_35_39'\n",
    "#    , 'idademae_faixa_maior_igual_40'\n",
    "#    , 'idademae_faixa_menor_igual_19'\n",
    "#    , 'escolaridade_mae_Ensino_medio'\n",
    "#    #, 'escolaridade_mae_Ensino_superior'\n",
    "#    , 'escolaridade_mae_Fundamental'\n",
    "#    , 'escolaridade_mae_Sem_escolaridade'\n",
    "#    , 'tipo_gravidez_Multipla'\n",
    "#    #, 'tipo_gravidez_Unica'\n",
    "#    #, 'PRM'\n",
    "#    #, 'def_sexo_Feminino'\n",
    "#    , 'def_sexo_Masculino'\n",
    "#    #, 'cat_peso_calc_AIG'\n",
    "#    , 'cat_peso_calc_GIG'\n",
    "#    , 'cat_peso_calc_PIG'\n",
    "#    #, 'peso_faixa_entre_1500_2499'\n",
    "#    #, 'peso_faixa_entre_2500_3500'\n",
    "#    #, 'peso_faixa_entre_3500_3999'\n",
    "#    #, 'peso_faixa_entre_500_1499'\n",
    "#    #, 'peso_faixa_maior_igual_4000'\n",
    "#    #, 'peso_faixa_menor_500'\n",
    "#    #,'cat_CENTROBS'\n",
    "#    #, 'cat_QTINST34'\n",
    "#    #,'cat_QTINST35'\n",
    "#    #,'cat_QTINST36'\n",
    "#    #, 'cat_QTINST37'\n",
    "#    #, 'cat_QTLEIT34'\n",
    "#    #, 'cat_QTLEIT38'\n",
    "#    #, 'cat_QTLEIT39'\n",
    "#    #, 'cat_QTLEIT40'\n",
    "#    #, 'cat_CENTRNEO'\n",
    "#    #, 'cat_TP_UNID_5'\n",
    "#    #, 'cat_TP_UNID_7'\n",
    "#    #, 'cat_TP_UNID_15'\n",
    "#    #, 'cat_TP_UNID_36'\n",
    "#]\n",
    "#\n",
    "## Preparando os dados\n",
    "#X = psw_base[aux + var_model_2].values\n",
    "#y = psw_base[['FLAG_BASE_SIM_DOFET']].values\n",
    "#weights = psw_base['weights'].values\n",
    "#propensity = psw_base['PROPENSITY_SCORE'].values\n",
    "#\n",
    "#\n",
    "## Aplicando Random Undersampling\n",
    "## Define a razão de amostragem: 1 (minoritária) para 1.3 (majoritária)\n",
    "#sampling_strategy = 1 / 1.3  # Aproximadamente 0.769\n",
    "#rus = RandomUnderSampler(sampling_strategy=sampling_strategy, random_state=42)\n",
    "#X_res, y_res = rus.fit_resample(X, y)\n",
    "#\n",
    "#start_time = time.time()\n",
    "## Aplicando Tomek Links\n",
    "#tl = TomekLinks()\n",
    "#X_res, y_res = tl.fit_resample(X_res, y_res)\n",
    "#\n",
    "## Fim da medição do tempo\n",
    "#end_time = time.time()\n",
    "#\n",
    "## Cálculo do tempo de execução\n",
    "#execution_time = end_time - start_time\n",
    "#\n",
    "## Criando um DataFrame da base balanceada\n",
    "#psw_base_balanced = pd.DataFrame(X_res, columns=aux + var_model_2)\n",
    "#psw_base_balanced['FLAG_BASE_SIM_DOFET'] = y_res\n",
    "#\n",
    "## Encontrando os índices das observações selecionadas\n",
    "#selected_indices = tl.sample_indices_\n",
    "#\n",
    "## Aplicando os pesos corretos às observações selecionadas\n",
    "#weights_balanced = weights[selected_indices]\n",
    "#propensity_balanced = propensity[selected_indices]\n",
    "#\n",
    "#psw_base_balanced['PROPENSITY_SCORE'] = propensity_balanced\n",
    "#psw_base_balanced['weigths'] = weights_balanced\n",
    "#\n",
    "## Treinando o modelo final\n",
    "#X_balanced = psw_base_balanced[aux + var_model_2].values\n",
    "#y_balanced = psw_base_balanced[['FLAG_BASE_SIM_DOFET']].values\n",
    "#weights_balanced = psw_base_balanced[['weigths']].values\n",
    "#X_ANO = sm.add_constant(X_balanced)\n",
    "#clf_ano = sm.Logit(y_balanced, X_ANO, weights=weights_balanced).fit(maxiter=1000)\n",
    "#aux = ['Intercept', 'ANO']\n",
    "#\n",
    "##X_ANO = sm.add_constant(X)\n",
    "##clf_ano = sm.Logit(y, X_ANO, weights=w).fit()\n",
    "##aux=['Intercept','ANO']\n",
    "#\n",
    "#print('----------------------------------------------------------------')\n",
    "#print('PSW REPORT',periodo)\n",
    "#print('----------------------------------------------------------------')\n",
    "#print(clf_ano.summary(xname=aux+var_model_2))\n",
    "#print('----------------------------------------------------------------')\n",
    "#\n",
    "#\n",
    "#IC=np.exp(clf_ano.conf_int(0.05))\n",
    "#odds_ratio=pd.DataFrame(\n",
    "#    data = {\n",
    "#        'Var':aux+var_model_2\n",
    "#        , 'Odds_ratio': np.round(np.exp(clf_ano.params),3)\n",
    "#        , 'Odds_Lim_inf': np.round(IC[:,0],3)\n",
    "#        , 'Odds_Lim_Sup': np.round(IC[:,1],3)\n",
    "#        , 'p-values':np.round(clf_ano.pvalues,3)\n",
    "#    }\n",
    "#)\n",
    "#print(tabulate(odds_ratio, headers = 'keys', tablefmt = 'grid'))"
   ]
  },
  {
   "cell_type": "code",
   "execution_count": null,
   "metadata": {},
   "outputs": [],
   "source": [
    "with open(f'resultados/modelo_2/{periodo}_modelo_2_OBITO.txt', 'w') as f:\n",
    "    f.write('---------------------------------------------------------------- \\n')\n",
    "    f.write('USING PROPENSITY SCORE TO SELECT/MATCH SAMPLES \\n')\n",
    "    f.write('----------------------------------------------------------------\\n')\n",
    "    f.write('N without missing  :' + str(po) +'\\n')\n",
    "    f.write('Treated samples    :' + str([tpo,np.round(100*tpo/po,2)]) + '% \\n')\n",
    "    f.write('Controled samples  :' + str([cpo,np.round(100*cpo/po,2)]) + '% \\n')\n",
    "    f.write('---------------------------------------------------------------- \\n')\n",
    "    f.write('SELECTED/MATCHET SAMPLES\\n')\n",
    "    f.write('---------------------------------------------------------------- \\n')\n",
    "    f.write('% Selected         :' + str(np.round(100*pa/po,2)) + '% \\n')\n",
    "    f.write('N selected         :' + str(pa) + '\\n')\n",
    "    f.write('Treated selected   :' + str([tpa,np.round(100*tpa/pa,2)]) + '% \\n')\n",
    "    f.write('Controled selected :' + str([cpa,np.round(100*cpa/pa,2)]) + '% \\n')\n",
    "    f.write('---------------------------------------------------------------- \\n')\n",
    "    f.write('PSW REPORT - ' + periodo+ '\\n')\n",
    "    f.write(str(clf_ano.summary(xname=aux+var_model_2)))\n",
    "    f.write('\\n')\n",
    "    f.write(tabulate(odds_ratio, headers = 'keys', tablefmt = 'grid'))"
   ]
  },
  {
   "cell_type": "code",
   "execution_count": null,
   "metadata": {},
   "outputs": [],
   "source": [
    "odds_ratio['periodo'] = periodo\n",
    "odds_ratio.to_csv(f'resultados/modelo_2/{periodo}_modelo_2_OBITO.csv', decimal=',', sep=';', index=False)"
   ]
  },
  {
   "cell_type": "code",
   "execution_count": null,
   "metadata": {},
   "outputs": [],
   "source": [
    "fig = sns.kdeplot(df_mod.query(\"ANO==0\")[\"PROPENSITY_SCORE\"],bw_adjust=.7, shade=False, color=\"r\")\n",
    "fig = sns.kdeplot(df_mod.query(\"ANO==1\")[\"PROPENSITY_SCORE\"],bw_adjust=.7, shade=False, color=\"b\")\n",
    "plt.legend(['Control','Treatment'])\n",
    "plt.savefig(f'resultados/modelo_2/fig1a_{periodo}_modelo_2_OBITO.png', format='png', dpi=300)\n",
    "plt.show()"
   ]
  },
  {
   "cell_type": "code",
   "execution_count": null,
   "metadata": {},
   "outputs": [],
   "source": [
    "fig = sns.kdeplot(psw_base.query(\"ANO==0\")[\"PROPENSITY_SCORE\"],bw_adjust=0.7, shade=False, color=\"r\")\n",
    "fig = sns.kdeplot(psw_base.query(\"ANO==1\")[\"PROPENSITY_SCORE\"],bw_adjust=0.7, shade=False, color=\"b\")\n",
    "plt.legend(['Control','Treatment'])\n",
    "plt.savefig(f'resultados/modelo_2/fig1b_{periodo}_modelo_2_PRM.png', format='png', dpi=300)\n",
    "plt.show()"
   ]
  },
  {
   "cell_type": "code",
   "execution_count": null,
   "metadata": {},
   "outputs": [],
   "source": [
    "#fig = sns.kdeplot(psw_base_balanced.query(\"ANO==0\")[\"PROPENSITY_SCORE\"],bw_adjust=0.7, shade=False, color=\"r\")\n",
    "#fig = sns.kdeplot(psw_base_balanced.query(\"ANO==1\")[\"PROPENSITY_SCORE\"],bw_adjust=0.7, shade=False, color=\"b\")\n",
    "#plt.legend(['Control','Treatment'])\n",
    "#plt.savefig(f'resultados/modelo_2/fig1b_{periodo}_modelo_2_OBITO.png', format='png', dpi=300)\n",
    "#plt.show()"
   ]
  },
  {
   "cell_type": "code",
   "execution_count": null,
   "metadata": {},
   "outputs": [],
   "source": [
    "#spearm\n",
    "var_corr = ['PRM'] + var_model_2\n",
    "\n",
    "plt.figure(figsize=(16, 6))\n",
    "# define the mask to set the values in the upper triangle to True\n",
    "\n",
    "mask = np.triu(np.ones_like(psw_base[var_corr].corr(method=\"spearman\"), dtype=np.bool))\n",
    "heatmap = sns.heatmap(psw_base[var_corr].corr(method='spearman'), mask=mask, vmin=-1, vmax=1, annot=True, cmap='BrBG')\n",
    "heatmap.set_title('Matrix', fontdict={'fontsize':18}, pad=16);"
   ]
  },
  {
   "cell_type": "code",
   "execution_count": null,
   "metadata": {},
   "outputs": [],
   "source": []
  }
 ],
 "metadata": {
  "kernelspec": {
   "display_name": "Python 3",
   "language": "python",
   "name": "python3"
  },
  "language_info": {
   "codemirror_mode": {
    "name": "ipython",
    "version": 3
   },
   "file_extension": ".py",
   "mimetype": "text/x-python",
   "name": "python",
   "nbconvert_exporter": "python",
   "pygments_lexer": "ipython3",
   "version": "3.8.5"
  }
 },
 "nbformat": 4,
 "nbformat_minor": 4
}
