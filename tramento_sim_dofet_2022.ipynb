{
 "cells": [
  {
   "cell_type": "code",
   "execution_count": 1,
   "metadata": {},
   "outputs": [],
   "source": [
    "import pandas as pd\n",
    "from Funcoes_auxiliares.func_aux import *"
   ]
  },
  {
   "cell_type": "code",
   "execution_count": 2,
   "metadata": {},
   "outputs": [],
   "source": [
    "df_2022 = pd.read_csv('SIM_DOFET\\\\SIM_DOFET_2022_sujo.csv', sep=';')"
   ]
  },
  {
   "cell_type": "code",
   "execution_count": 3,
   "metadata": {},
   "outputs": [
    {
     "name": "stdout",
     "output_type": "stream",
     "text": [
      "data_obito\n",
      "ano_obito\n",
      "TIPOBITO\n",
      "ocor_MUNNOMEX\n",
      "res_MUNNOMEX\n",
      "ocor_CAPITAL\n",
      "res_CAPITAL\n",
      "ocor_REGIAO\n",
      "res_REGIAO\n",
      "ocor_SIGLA_UF\n",
      "res_SIGLA_UF\n",
      "IDADEMAE\n",
      "idademae_faixa\n",
      "ESCMAE2010\n",
      "escolaridade_mae\n",
      "OBITOGRAV\n",
      "GRAVIDEZ\n",
      "tipo_gravidez\n",
      "SEMAGESTAC\n",
      "idade_gestacao_faixa\n",
      "SEXO\n",
      "def_sexo\n",
      "PESO\n",
      "peso_faixa\n",
      "OBITOPARTO\n",
      "def_obito_parto\n",
      "CAUSABAS\n",
      "causabas_capitulo\n",
      "causabas_categoria\n",
      "causabas_grupo\n",
      "causabas_subcategoria\n",
      "FLAG_BASE\n"
     ]
    }
   ],
   "source": [
    "df_dofet_suja = pd.read_csv('base_suja\\\\base_sim_dofet_suja.csv')\n",
    "for i in df_dofet_suja.columns:\n",
    "    print(i)"
   ]
  },
  {
   "cell_type": "code",
   "execution_count": 4,
   "metadata": {},
   "outputs": [
    {
     "name": "stdout",
     "output_type": "stream",
     "text": [
      "<class 'pandas.core.frame.DataFrame'>\n",
      "RangeIndex: 27394 entries, 0 to 27393\n",
      "Data columns (total 99 columns):\n",
      " #   Column      Non-Null Count  Dtype  \n",
      "---  ------      --------------  -----  \n",
      " 0   Unnamed: 0  27394 non-null  int64  \n",
      " 1   ORIGEM      27394 non-null  int64  \n",
      " 2   CODMUNCART  0 non-null      float64\n",
      " 3   NUMREGCART  0 non-null      float64\n",
      " 4   CODCART     0 non-null      float64\n",
      " 5   DTREGCART   0 non-null      float64\n",
      " 6   TIPOBITO    27394 non-null  int64  \n",
      " 7   DTOBITO     27394 non-null  int64  \n",
      " 8   HORAOBITO   25810 non-null  float64\n",
      " 9   NATURAL     24131 non-null  float64\n",
      " 10  CODMUNNATU  23868 non-null  float64\n",
      " 11  DTNASC      0 non-null      float64\n",
      " 12  IDADE       0 non-null      float64\n",
      " 13  SEXO        27394 non-null  int64  \n",
      " 14  RACACOR     0 non-null      float64\n",
      " 15  ESTCIV      4 non-null      float64\n",
      " 16  ESC         0 non-null      float64\n",
      " 17  ESC2010     0 non-null      float64\n",
      " 18  SERIESCFAL  0 non-null      float64\n",
      " 19  OCUP        0 non-null      float64\n",
      " 20  CODMUNRES   27394 non-null  int64  \n",
      " 21  LOCOCOR     27394 non-null  int64  \n",
      " 22  CODESTAB    25868 non-null  float64\n",
      " 23  ESTABDESCR  0 non-null      float64\n",
      " 24  CODMUNOCOR  27394 non-null  int64  \n",
      " 25  IDADEMAE    25792 non-null  float64\n",
      " 26  ESCMAE      25276 non-null  float64\n",
      " 27  ESCMAE2010  25157 non-null  float64\n",
      " 28  SERIESCMAE  9536 non-null   float64\n",
      " 29  OCUPMAE     22554 non-null  float64\n",
      " 30  QTDFILVIVO  25903 non-null  float64\n",
      " 31  QTDFILMORT  25367 non-null  float64\n",
      " 32  GRAVIDEZ    26808 non-null  float64\n",
      " 33  SEMAGESTAC  26040 non-null  float64\n",
      " 34  GESTACAO    26040 non-null  float64\n",
      " 35  PARTO       26768 non-null  float64\n",
      " 36  OBITOPARTO  26646 non-null  float64\n",
      " 37  PESO        25931 non-null  float64\n",
      " 38  TPMORTEOCO  1 non-null      float64\n",
      " 39  OBITOGRAV   1 non-null      float64\n",
      " 40  OBITOPUERP  1 non-null      float64\n",
      " 41  ASSISTMED   16998 non-null  float64\n",
      " 42  EXAME       52 non-null     float64\n",
      " 43  CIRURGIA    48 non-null     float64\n",
      " 44  NECROPSIA   18372 non-null  float64\n",
      " 45  LINHAA      26225 non-null  object \n",
      " 46  LINHAB      12154 non-null  object \n",
      " 47  LINHAC      4583 non-null   object \n",
      " 48  LINHAD      1659 non-null   object \n",
      " 49  LINHAII     4065 non-null   object \n",
      " 50  CAUSABAS    27394 non-null  object \n",
      " 51  CB_PRE      0 non-null      float64\n",
      " 52  MEDICO      0 non-null      float64\n",
      " 53  COMUNSVOIM  3911 non-null   float64\n",
      " 54  DTATESTADO  27351 non-null  float64\n",
      " 55  CIRCOBITO   4 non-null      float64\n",
      " 56  ACIDTRAB    1 non-null      float64\n",
      " 57  FONTE       1 non-null      float64\n",
      " 58  NUMEROLOTE  27377 non-null  float64\n",
      " 59  TPPOS       20499 non-null  object \n",
      " 60  DTINVESTIG  13174 non-null  float64\n",
      " 61  LINHAA_O    0 non-null      float64\n",
      " 62  LINHAB_O    0 non-null      float64\n",
      " 63  LINHAC_O    0 non-null      float64\n",
      " 64  LINHAD_O    0 non-null      float64\n",
      " 65  LINHAII_O   0 non-null      float64\n",
      " 66  CAUSABAS_O  27370 non-null  object \n",
      " 67  DTCADASTRO  27387 non-null  float64\n",
      " 68  ATESTANTE   25150 non-null  float64\n",
      " 69  STCODIFICA  27392 non-null  object \n",
      " 70  CODIFICADO  27394 non-null  object \n",
      " 71  VERSAOSIST  27394 non-null  object \n",
      " 72  VERSAOSCB   26354 non-null  float64\n",
      " 73  FONTEINV    13229 non-null  float64\n",
      " 74  DTRECEBIM   27365 non-null  float64\n",
      " 75  ATESTADO    27386 non-null  object \n",
      " 76  DTRECORIG   0 non-null      float64\n",
      " 77  DTRECORIGA  27394 non-null  int64  \n",
      " 78  CAUSAMAT    0 non-null      float64\n",
      " 79  ESCMAEAGR1  25157 non-null  float64\n",
      " 80  ESCFALAGR1  0 non-null      float64\n",
      " 81  STDOEPIDEM  27394 non-null  int64  \n",
      " 82  STDONOVA    27394 non-null  int64  \n",
      " 83  DIFDATA     27394 non-null  int64  \n",
      " 84  NUDIASOBCO  9 non-null      float64\n",
      " 85  NUDIASOBIN  0 non-null      float64\n",
      " 86  DTCADINV    0 non-null      float64\n",
      " 87  TPOBITOCOR  0 non-null      float64\n",
      " 88  DTCONINV    0 non-null      float64\n",
      " 89  FONTES      22054 non-null  object \n",
      " 90  TPRESGINFO  4 non-null      float64\n",
      " 91  TPNIVELINV  9 non-null      object \n",
      " 92  NUDIASINF   0 non-null      float64\n",
      " 93  DTCADINF    22054 non-null  float64\n",
      " 94  MORTEPARTO  22054 non-null  float64\n",
      " 95  DTCONCASO   20589 non-null  float64\n",
      " 96  FONTESINF   0 non-null      float64\n",
      " 97  ALTCAUSA    21776 non-null  float64\n",
      " 98  CONTADOR    27394 non-null  int64  \n",
      "dtypes: float64(72), int64(13), object(14)\n",
      "memory usage: 20.7+ MB\n"
     ]
    }
   ],
   "source": [
    "df_2022.info()"
   ]
  },
  {
   "cell_type": "code",
   "execution_count": 5,
   "metadata": {},
   "outputs": [],
   "source": [
    "df_2022 = df_2022[\n",
    "    [\n",
    "        'TIPOBITO'\n",
    "        , 'IDADEMAE'\n",
    "        , 'ESCMAE2010'\n",
    "        , 'OBITOGRAV'\n",
    "        , 'GRAVIDEZ'\n",
    "        , 'SEMAGESTAC'\n",
    "        , 'SEXO'\n",
    "        , 'PESO'\n",
    "        , 'OBITOPARTO'\n",
    "        , 'CAUSABAS'\n",
    "        , 'DTOBITO'\n",
    "        , 'CODMUNRES'\n",
    "        , 'CODMUNOCOR'\n",
    "    ]\n",
    "]"
   ]
  },
  {
   "cell_type": "markdown",
   "metadata": {},
   "source": [
    "# Tratamentos"
   ]
  },
  {
   "cell_type": "code",
   "execution_count": 6,
   "metadata": {},
   "outputs": [],
   "source": [
    "# pd.unique(df_2022['TIPOBITO']) # Somente 1 que representa obitos fetais\n",
    "# df_2022['TIPOBITO'].isnull().sum() # Sem NA's\n",
    "# Variável TIPOBITO - OK"
   ]
  },
  {
   "cell_type": "code",
   "execution_count": 7,
   "metadata": {},
   "outputs": [],
   "source": [
    "#pd.unique(df_2022['ESCMAE2010'])\n",
    "#df_2022['ESCMAE2010'].isnull().sum() # 2237 nulls\n",
    "#df_2022['ESCMAE2010'] = [func_categorize_idademae(i) for i in df_2022['IDADEMAE']]\n",
    "# Null = Ignorado"
   ]
  },
  {
   "cell_type": "code",
   "execution_count": 8,
   "metadata": {},
   "outputs": [],
   "source": [
    "#pd.unique(df_2022['IDADEMAE'])\n",
    "#df_2022['IDADEMAE'].isnull().sum() # 1602 nulls\n",
    "df_2022['idademae_faixa'] = [func_categorize_escolmae(i) for i in df_2022['ESCMAE2010']]\n",
    "# Null e 9 = Ignorado"
   ]
  },
  {
   "cell_type": "code",
   "execution_count": 9,
   "metadata": {},
   "outputs": [],
   "source": [
    "#pd.unique(df_2022['OBITOGRAV'])\n",
    "#df_2022['OBITOGRAV'].isnull().sum() # 27393 nulls\n",
    "# 99,99 % nulo"
   ]
  },
  {
   "cell_type": "code",
   "execution_count": 10,
   "metadata": {},
   "outputs": [],
   "source": [
    "#pd.unique(df_2022['GRAVIDEZ'])\n",
    "#df_2022['GRAVIDEZ'].isnull().sum() # 586 nulls\n",
    "df_2022['tipo_gravidez'] = [func_categorize_gravidez(i) for i in df_2022['GRAVIDEZ']]\n",
    "# Null e 9 = Ignorado"
   ]
  },
  {
   "cell_type": "code",
   "execution_count": 11,
   "metadata": {},
   "outputs": [],
   "source": [
    "#pd.unique(df_2022['SEMAGESTAC'])\n",
    "#df_2022['SEMAGESTAC'].isnull().sum() # 1354 nulls\n",
    "df_2022['idade_gestacao_faixa'] = [func_categorize_idade_gest(i) for i in df_2022['SEMAGESTAC']]\n",
    "# Null e 99 = Ignorado"
   ]
  },
  {
   "cell_type": "code",
   "execution_count": 12,
   "metadata": {},
   "outputs": [],
   "source": [
    "#pd.unique(df_2022['SEXO'])\n",
    "#df_2022['SEXO'].isnull().sum() # sem nulls\n",
    "# Remover 0"
   ]
  },
  {
   "cell_type": "code",
   "execution_count": 13,
   "metadata": {},
   "outputs": [],
   "source": [
    "#pd.unique(df_2022['PESO'])\n",
    "#df_2022['PESO'].isnull().sum() # 1463 nulls\n",
    "df_2022['peso_faixa'] = [func_categorize_peso(i) for i in df_2022['PESO']]\n",
    "# Null = Ignorado"
   ]
  },
  {
   "cell_type": "code",
   "execution_count": 14,
   "metadata": {},
   "outputs": [],
   "source": [
    "#pd.unique(df_2022['OBITOPARTO'])\n",
    "#df_2022['OBITOPARTO'].isnull().sum() # 748 nulls\n",
    "# remover null e 9"
   ]
  },
  {
   "cell_type": "code",
   "execution_count": 15,
   "metadata": {},
   "outputs": [
    {
     "data": {
      "text/plain": [
       "0"
      ]
     },
     "execution_count": 15,
     "metadata": {},
     "output_type": "execute_result"
    }
   ],
   "source": [
    "#pd.unique(df_2022['CAUSABAS'])\n",
    "df_2022['CAUSABAS'].isnull().sum() # 0 nulls"
   ]
  },
  {
   "cell_type": "markdown",
   "metadata": {},
   "source": [
    "# Trazendo algumas imformações da PCDas"
   ]
  },
  {
   "cell_type": "code",
   "execution_count": 16,
   "metadata": {},
   "outputs": [
    {
     "name": "stderr",
     "output_type": "stream",
     "text": [
      "<ipython-input-16-4296af8f107a>:2: DtypeWarning: Columns (89,110,112,113,115,116,117) have mixed types. Specify dtype option on import or set low_memory=False.\n",
      "  sim_dofet_2019 = pd.read_csv('SIM_DOFET\\\\ETLSIM.DOFET_2019_t.csv')\n",
      "<ipython-input-16-4296af8f107a>:3: DtypeWarning: Columns (89,105,106,109,110,112,113,115,116,117) have mixed types. Specify dtype option on import or set low_memory=False.\n",
      "  sim_dofet_2020 = pd.read_csv('SIM_DOFET\\\\ETLSIM.DOFET_2020_t.csv')\n",
      "<ipython-input-16-4296af8f107a>:4: DtypeWarning: Columns (89,105,106,110,112,113,115,116,117) have mixed types. Specify dtype option on import or set low_memory=False.\n",
      "  sim_dofet_2021 = pd.read_csv('SIM_DOFET\\\\ETLSIM.DOFET_2021_t.csv')\n"
     ]
    }
   ],
   "source": [
    "# ocor_MUNNOMEX,res_MUNNOMEX,ocor_CAPITAL,res_CAPITAL,ocor_REGIAO,res_REGIAO,ocor_SIGLA_UF,res_SIGLA_UF\n",
    "sim_dofet_2019 = pd.read_csv('SIM_DOFET\\\\ETLSIM.DOFET_2019_t.csv')\n",
    "sim_dofet_2020 = pd.read_csv('SIM_DOFET\\\\ETLSIM.DOFET_2020_t.csv')\n",
    "sim_dofet_2021 = pd.read_csv('SIM_DOFET\\\\ETLSIM.DOFET_2021_t.csv')\n",
    "\n",
    "sim_dofet_unif = pd.concat([sim_dofet_2019, sim_dofet_2020, sim_dofet_2021])"
   ]
  },
  {
   "cell_type": "code",
   "execution_count": 17,
   "metadata": {},
   "outputs": [],
   "source": [
    "sim_dofet_res = sim_dofet_unif[\n",
    "    [\n",
    "        'CODMUNRES'\n",
    "        , 'res_MUNNOMEX'\n",
    "        , 'res_CAPITAL'\n",
    "        , 'res_REGIAO'\n",
    "        , 'res_SIGLA_UF'\n",
    "    ]\n",
    "].drop_duplicates()\n",
    "\n",
    "sim_dofet_ocor = sim_dofet_unif[\n",
    "    [\n",
    "        'CODMUNOCOR'\n",
    "        , 'ocor_MUNNOMEX'\n",
    "        , 'ocor_CAPITAL'\n",
    "        , 'ocor_REGIAO' \n",
    "        , 'ocor_SIGLA_UF'\n",
    "    ]\n",
    "].drop_duplicates()"
   ]
  },
  {
   "cell_type": "code",
   "execution_count": 18,
   "metadata": {},
   "outputs": [
    {
     "data": {
      "text/plain": [
       "27394"
      ]
     },
     "execution_count": 18,
     "metadata": {},
     "output_type": "execute_result"
    }
   ],
   "source": [
    "len(df_2022)"
   ]
  },
  {
   "cell_type": "code",
   "execution_count": 19,
   "metadata": {},
   "outputs": [],
   "source": [
    "df_2022_merge = df_2022.merge(sim_dofet_ocor, how='left', on='CODMUNOCOR')"
   ]
  },
  {
   "cell_type": "code",
   "execution_count": 20,
   "metadata": {},
   "outputs": [],
   "source": [
    "df_2022_merge = df_2022_merge.merge(sim_dofet_res, how='left', on='CODMUNRES')"
   ]
  },
  {
   "cell_type": "code",
   "execution_count": 21,
   "metadata": {},
   "outputs": [
    {
     "name": "stdout",
     "output_type": "stream",
     "text": [
      "<class 'pandas.core.frame.DataFrame'>\n",
      "Int64Index: 27394 entries, 0 to 27393\n",
      "Data columns (total 25 columns):\n",
      " #   Column                Non-Null Count  Dtype  \n",
      "---  ------                --------------  -----  \n",
      " 0   TIPOBITO              27394 non-null  int64  \n",
      " 1   IDADEMAE              25792 non-null  float64\n",
      " 2   ESCMAE2010            25157 non-null  float64\n",
      " 3   OBITOGRAV             1 non-null      float64\n",
      " 4   GRAVIDEZ              26808 non-null  float64\n",
      " 5   SEMAGESTAC            26040 non-null  float64\n",
      " 6   SEXO                  27394 non-null  int64  \n",
      " 7   PESO                  25931 non-null  float64\n",
      " 8   OBITOPARTO            26646 non-null  float64\n",
      " 9   CAUSABAS              27394 non-null  object \n",
      " 10  DTOBITO               27394 non-null  int64  \n",
      " 11  CODMUNRES             27394 non-null  int64  \n",
      " 12  CODMUNOCOR            27394 non-null  int64  \n",
      " 13  idademae_faixa        27394 non-null  object \n",
      " 14  tipo_gravidez         27394 non-null  object \n",
      " 15  idade_gestacao_faixa  27394 non-null  object \n",
      " 16  peso_faixa            27394 non-null  object \n",
      " 17  ocor_MUNNOMEX         27167 non-null  object \n",
      " 18  ocor_CAPITAL          27167 non-null  object \n",
      " 19  ocor_REGIAO           27167 non-null  object \n",
      " 20  ocor_SIGLA_UF         27167 non-null  object \n",
      " 21  res_MUNNOMEX          27161 non-null  object \n",
      " 22  res_CAPITAL           27161 non-null  object \n",
      " 23  res_REGIAO            27161 non-null  object \n",
      " 24  res_SIGLA_UF          27161 non-null  object \n",
      "dtypes: float64(7), int64(5), object(13)\n",
      "memory usage: 5.4+ MB\n"
     ]
    }
   ],
   "source": [
    "df_2022_merge.info()"
   ]
  },
  {
   "cell_type": "code",
   "execution_count": 22,
   "metadata": {},
   "outputs": [],
   "source": [
    "sim_dofet_causa = sim_dofet_unif[\n",
    "    [\n",
    "        'CAUSABAS'\n",
    "        , 'causabas_capitulo'\n",
    "        , 'causabas_categoria'\n",
    "        , 'causabas_grupo'\n",
    "        , 'causabas_subcategoria'\n",
    "                ]\n",
    "].drop_duplicates()"
   ]
  },
  {
   "cell_type": "code",
   "execution_count": 23,
   "metadata": {},
   "outputs": [
    {
     "data": {
      "text/plain": [
       "360"
      ]
     },
     "execution_count": 23,
     "metadata": {},
     "output_type": "execute_result"
    }
   ],
   "source": [
    "len(sim_dofet_causa)"
   ]
  },
  {
   "cell_type": "code",
   "execution_count": 24,
   "metadata": {},
   "outputs": [],
   "source": [
    "df_2022_merge = df_2022_merge.merge(sim_dofet_causa, how='left', on='CAUSABAS')"
   ]
  },
  {
   "cell_type": "code",
   "execution_count": 28,
   "metadata": {},
   "outputs": [],
   "source": [
    "df_2022_merge['FLAG_BASE'] = 'SIM_DOFET'"
   ]
  },
  {
   "cell_type": "code",
   "execution_count": 38,
   "metadata": {},
   "outputs": [],
   "source": [
    "def acerta_data(string):\n",
    "    tam = len(string)\n",
    "    if tam ==8:\n",
    "        dt = f'{string[4:8]}-{string[2:4]}-{string[0:2]}'\n",
    "        return dt\n",
    "    elif tam == 7:\n",
    "        dt = f'{string[3:7]}-{string[1:3]}-0{string[0]}'\n",
    "        return dt\n",
    "    else:\n",
    "        None\n",
    "        \n",
    "    \n",
    "df_2022_merge['data_obito'] = [acerta_data(str(i)) for i in df_2022_merge['DTOBITO']]"
   ]
  },
  {
   "cell_type": "code",
   "execution_count": 42,
   "metadata": {},
   "outputs": [],
   "source": [
    "df_2022_merge['ano_obito'] = [i[0:4] for i in df_2022_merge['data_obito']]"
   ]
  },
  {
   "cell_type": "code",
   "execution_count": 45,
   "metadata": {},
   "outputs": [],
   "source": [
    "def escolaridade_mae(cod):\n",
    "    if cod == 0:\n",
    "        return 'Sem_escolaridade'\n",
    "    elif 1 <= cod <= 2:\n",
    "        return 'Fundamental'\n",
    "    elif cod == 3:\n",
    "        return 'Ensino_medio'\n",
    "    elif 4 <= cod <= 5:\n",
    "        return 'Ensino_superior'\n",
    "    else:\n",
    "        return 'Ignorado'\n",
    "\n",
    "df_2022_merge['escolaridade_mae'] = [escolaridade_mae(cod) for cod in df_2022_merge['ESCMAE2010']]"
   ]
  },
  {
   "cell_type": "code",
   "execution_count": 49,
   "metadata": {},
   "outputs": [],
   "source": [
    "def sexo(cod):\n",
    "    if cod == 1:\n",
    "        return 'Masculino'\n",
    "    elif cod == 2:\n",
    "        return 'Feminino'\n",
    "    else:\n",
    "         return 'Ignorado'\n",
    "df_2022_merge['def_sexo'] = [sexo(cod) for cod in df_2022_merge['SEXO']]"
   ]
  },
  {
   "cell_type": "code",
   "execution_count": 52,
   "metadata": {},
   "outputs": [],
   "source": [
    "def obito_parto(cod):\n",
    "    if cod == 1:\n",
    "        return 'Antes'\n",
    "    elif cod == 2:\n",
    "        return 'Durante'\n",
    "    elif cod == 3:\n",
    "        return 'Depois'\n",
    "    else:\n",
    "         return 'Ignorado'\n",
    "df_2022_merge['def_obito_parto'] = [obito_parto(cod) for cod in df_2022_merge['OBITOPARTO']]"
   ]
  },
  {
   "cell_type": "code",
   "execution_count": 54,
   "metadata": {},
   "outputs": [
    {
     "data": {
      "text/plain": [
       "Index(['TIPOBITO', 'IDADEMAE', 'ESCMAE2010', 'OBITOGRAV', 'GRAVIDEZ',\n",
       "       'SEMAGESTAC', 'SEXO', 'PESO', 'OBITOPARTO', 'CAUSABAS', 'DTOBITO',\n",
       "       'CODMUNRES', 'CODMUNOCOR', 'idademae_faixa', 'tipo_gravidez',\n",
       "       'idade_gestacao_faixa', 'peso_faixa', 'ocor_MUNNOMEX', 'ocor_CAPITAL',\n",
       "       'ocor_REGIAO', 'ocor_SIGLA_UF', 'res_MUNNOMEX', 'res_CAPITAL',\n",
       "       'res_REGIAO', 'res_SIGLA_UF', 'causabas_capitulo', 'causabas_categoria',\n",
       "       'causabas_grupo', 'causabas_subcategoria', 'FLAG_BASE', 'data_obito',\n",
       "       'ano_obito', 'escolaridade_mae', 'def_sexo', 'def_obito_parto'],\n",
       "      dtype='object')"
      ]
     },
     "execution_count": 54,
     "metadata": {},
     "output_type": "execute_result"
    }
   ],
   "source": [
    "df_2022_merge.columns"
   ]
  },
  {
   "cell_type": "code",
   "execution_count": 55,
   "metadata": {},
   "outputs": [
    {
     "data": {
      "text/plain": [
       "Index(['data_obito', 'ano_obito', 'TIPOBITO', 'ocor_MUNNOMEX', 'res_MUNNOMEX',\n",
       "       'ocor_CAPITAL', 'res_CAPITAL', 'ocor_REGIAO', 'res_REGIAO',\n",
       "       'ocor_SIGLA_UF', 'res_SIGLA_UF', 'IDADEMAE', 'idademae_faixa',\n",
       "       'ESCMAE2010', 'escolaridade_mae', 'OBITOGRAV', 'GRAVIDEZ',\n",
       "       'tipo_gravidez', 'SEMAGESTAC', 'idade_gestacao_faixa', 'SEXO',\n",
       "       'def_sexo', 'PESO', 'peso_faixa', 'OBITOPARTO', 'def_obito_parto',\n",
       "       'CAUSABAS', 'causabas_capitulo', 'causabas_categoria', 'causabas_grupo',\n",
       "       'causabas_subcategoria', 'FLAG_BASE'],\n",
       "      dtype='object')"
      ]
     },
     "execution_count": 55,
     "metadata": {},
     "output_type": "execute_result"
    }
   ],
   "source": [
    "df_dofet_suja.columns"
   ]
  },
  {
   "cell_type": "code",
   "execution_count": 56,
   "metadata": {},
   "outputs": [],
   "source": [
    "df_2022_merge_import = df_2022_merge[['data_obito', 'ano_obito', 'TIPOBITO', 'ocor_MUNNOMEX', 'res_MUNNOMEX',\n",
    "       'ocor_CAPITAL', 'res_CAPITAL', 'ocor_REGIAO', 'res_REGIAO',\n",
    "       'ocor_SIGLA_UF', 'res_SIGLA_UF', 'IDADEMAE', 'idademae_faixa',\n",
    "       'ESCMAE2010', 'escolaridade_mae', 'OBITOGRAV', 'GRAVIDEZ',\n",
    "       'tipo_gravidez', 'SEMAGESTAC', 'idade_gestacao_faixa', 'SEXO',\n",
    "       'def_sexo', 'PESO', 'peso_faixa', 'OBITOPARTO', 'def_obito_parto',\n",
    "       'CAUSABAS', 'causabas_capitulo', 'causabas_categoria', 'causabas_grupo',\n",
    "       'causabas_subcategoria', 'FLAG_BASE']]"
   ]
  },
  {
   "cell_type": "code",
   "execution_count": 57,
   "metadata": {},
   "outputs": [
    {
     "name": "stdout",
     "output_type": "stream",
     "text": [
      "<class 'pandas.core.frame.DataFrame'>\n",
      "Int64Index: 27394 entries, 0 to 27393\n",
      "Data columns (total 32 columns):\n",
      " #   Column                 Non-Null Count  Dtype  \n",
      "---  ------                 --------------  -----  \n",
      " 0   data_obito             27394 non-null  object \n",
      " 1   ano_obito              27394 non-null  object \n",
      " 2   TIPOBITO               27394 non-null  int64  \n",
      " 3   ocor_MUNNOMEX          27167 non-null  object \n",
      " 4   res_MUNNOMEX           27161 non-null  object \n",
      " 5   ocor_CAPITAL           27167 non-null  object \n",
      " 6   res_CAPITAL            27161 non-null  object \n",
      " 7   ocor_REGIAO            27167 non-null  object \n",
      " 8   res_REGIAO             27161 non-null  object \n",
      " 9   ocor_SIGLA_UF          27167 non-null  object \n",
      " 10  res_SIGLA_UF           27161 non-null  object \n",
      " 11  IDADEMAE               25792 non-null  float64\n",
      " 12  idademae_faixa         27394 non-null  object \n",
      " 13  ESCMAE2010             25157 non-null  float64\n",
      " 14  escolaridade_mae       27394 non-null  object \n",
      " 15  OBITOGRAV              1 non-null      float64\n",
      " 16  GRAVIDEZ               26808 non-null  float64\n",
      " 17  tipo_gravidez          27394 non-null  object \n",
      " 18  SEMAGESTAC             26040 non-null  float64\n",
      " 19  idade_gestacao_faixa   27394 non-null  object \n",
      " 20  SEXO                   27394 non-null  int64  \n",
      " 21  def_sexo               27394 non-null  object \n",
      " 22  PESO                   25931 non-null  float64\n",
      " 23  peso_faixa             27394 non-null  object \n",
      " 24  OBITOPARTO             26646 non-null  float64\n",
      " 25  def_obito_parto        27394 non-null  object \n",
      " 26  CAUSABAS               27394 non-null  object \n",
      " 27  causabas_capitulo      27368 non-null  object \n",
      " 28  causabas_categoria     27368 non-null  object \n",
      " 29  causabas_grupo         27368 non-null  object \n",
      " 30  causabas_subcategoria  27368 non-null  object \n",
      " 31  FLAG_BASE              27394 non-null  object \n",
      "dtypes: float64(7), int64(2), object(23)\n",
      "memory usage: 6.9+ MB\n"
     ]
    }
   ],
   "source": [
    "df_2022_merge_import.info()"
   ]
  },
  {
   "cell_type": "code",
   "execution_count": 58,
   "metadata": {},
   "outputs": [],
   "source": [
    "df_2022_merge_import.to_csv('SIM_DOFET\\\\ETLSIM.DOFET_2022_t.csv')"
   ]
  },
  {
   "cell_type": "code",
   "execution_count": null,
   "metadata": {},
   "outputs": [],
   "source": []
  }
 ],
 "metadata": {
  "kernelspec": {
   "display_name": "Python 3",
   "language": "python",
   "name": "python3"
  },
  "language_info": {
   "codemirror_mode": {
    "name": "ipython",
    "version": 3
   },
   "file_extension": ".py",
   "mimetype": "text/x-python",
   "name": "python",
   "nbconvert_exporter": "python",
   "pygments_lexer": "ipython3",
   "version": "3.8.5"
  }
 },
 "nbformat": 4,
 "nbformat_minor": 4
}
