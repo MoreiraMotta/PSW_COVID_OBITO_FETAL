{
 "cells": [
  {
   "cell_type": "code",
   "execution_count": 1,
   "metadata": {},
   "outputs": [],
   "source": [
    "import pandas as pd\n",
    "from Funcoes_auxiliares.func_aux import *"
   ]
  },
  {
   "cell_type": "code",
   "execution_count": 2,
   "metadata": {},
   "outputs": [],
   "source": [
    "df_2022 = pd.read_csv('SIM_DOFET\\\\SIM_DOFET_2022_sujo.csv', sep=';')"
   ]
  },
  {
   "cell_type": "code",
   "execution_count": 3,
   "metadata": {},
   "outputs": [
    {
     "name": "stdout",
     "output_type": "stream",
     "text": [
      "data_obito\n",
      "ano_obito\n",
      "TIPOBITO\n",
      "ocor_MUNNOMEX\n",
      "res_MUNNOMEX\n",
      "ocor_CAPITAL\n",
      "res_CAPITAL\n",
      "ocor_REGIAO\n",
      "res_REGIAO\n",
      "ocor_SIGLA_UF\n",
      "res_SIGLA_UF\n",
      "IDADEMAE\n",
      "idademae_faixa\n",
      "ESCMAE2010\n",
      "escolaridade_mae\n",
      "OBITOGRAV\n",
      "GRAVIDEZ\n",
      "tipo_gravidez\n",
      "SEMAGESTAC\n",
      "idade_gestacao_faixa\n",
      "SEXO\n",
      "def_sexo\n",
      "PESO\n",
      "peso_faixa\n",
      "OBITOPARTO\n",
      "def_obito_parto\n",
      "CAUSABAS\n",
      "causabas_capitulo\n",
      "causabas_categoria\n",
      "causabas_grupo\n",
      "causabas_subcategoria\n",
      "FLAG_BASE\n"
     ]
    }
   ],
   "source": [
    "df_dofet_suja = pd.read_csv('base_suja\\\\base_sim_dofet_suja.csv')\n",
    "for i in df_dofet_suja.columns:\n",
    "    print(i)"
   ]
  },
  {
   "cell_type": "code",
   "execution_count": 4,
   "metadata": {},
   "outputs": [
    {
     "name": "stdout",
     "output_type": "stream",
     "text": [
      "<class 'pandas.core.frame.DataFrame'>\n",
      "RangeIndex: 27394 entries, 0 to 27393\n",
      "Data columns (total 99 columns):\n",
      " #   Column      Non-Null Count  Dtype  \n",
      "---  ------      --------------  -----  \n",
      " 0   Unnamed: 0  27394 non-null  int64  \n",
      " 1   ORIGEM      27394 non-null  int64  \n",
      " 2   CODMUNCART  0 non-null      float64\n",
      " 3   NUMREGCART  0 non-null      float64\n",
      " 4   CODCART     0 non-null      float64\n",
      " 5   DTREGCART   0 non-null      float64\n",
      " 6   TIPOBITO    27394 non-null  int64  \n",
      " 7   DTOBITO     27394 non-null  int64  \n",
      " 8   HORAOBITO   25810 non-null  float64\n",
      " 9   NATURAL     24131 non-null  float64\n",
      " 10  CODMUNNATU  23868 non-null  float64\n",
      " 11  DTNASC      0 non-null      float64\n",
      " 12  IDADE       0 non-null      float64\n",
      " 13  SEXO        27394 non-null  int64  \n",
      " 14  RACACOR     0 non-null      float64\n",
      " 15  ESTCIV      4 non-null      float64\n",
      " 16  ESC         0 non-null      float64\n",
      " 17  ESC2010     0 non-null      float64\n",
      " 18  SERIESCFAL  0 non-null      float64\n",
      " 19  OCUP        0 non-null      float64\n",
      " 20  CODMUNRES   27394 non-null  int64  \n",
      " 21  LOCOCOR     27394 non-null  int64  \n",
      " 22  CODESTAB    25868 non-null  float64\n",
      " 23  ESTABDESCR  0 non-null      float64\n",
      " 24  CODMUNOCOR  27394 non-null  int64  \n",
      " 25  IDADEMAE    25792 non-null  float64\n",
      " 26  ESCMAE      25276 non-null  float64\n",
      " 27  ESCMAE2010  25157 non-null  float64\n",
      " 28  SERIESCMAE  9536 non-null   float64\n",
      " 29  OCUPMAE     22554 non-null  float64\n",
      " 30  QTDFILVIVO  25903 non-null  float64\n",
      " 31  QTDFILMORT  25367 non-null  float64\n",
      " 32  GRAVIDEZ    26808 non-null  float64\n",
      " 33  SEMAGESTAC  26040 non-null  float64\n",
      " 34  GESTACAO    26040 non-null  float64\n",
      " 35  PARTO       26768 non-null  float64\n",
      " 36  OBITOPARTO  26646 non-null  float64\n",
      " 37  PESO        25931 non-null  float64\n",
      " 38  TPMORTEOCO  1 non-null      float64\n",
      " 39  OBITOGRAV   1 non-null      float64\n",
      " 40  OBITOPUERP  1 non-null      float64\n",
      " 41  ASSISTMED   16998 non-null  float64\n",
      " 42  EXAME       52 non-null     float64\n",
      " 43  CIRURGIA    48 non-null     float64\n",
      " 44  NECROPSIA   18372 non-null  float64\n",
      " 45  LINHAA      26225 non-null  object \n",
      " 46  LINHAB      12154 non-null  object \n",
      " 47  LINHAC      4583 non-null   object \n",
      " 48  LINHAD      1659 non-null   object \n",
      " 49  LINHAII     4065 non-null   object \n",
      " 50  CAUSABAS    27394 non-null  object \n",
      " 51  CB_PRE      0 non-null      float64\n",
      " 52  MEDICO      0 non-null      float64\n",
      " 53  COMUNSVOIM  3911 non-null   float64\n",
      " 54  DTATESTADO  27351 non-null  float64\n",
      " 55  CIRCOBITO   4 non-null      float64\n",
      " 56  ACIDTRAB    1 non-null      float64\n",
      " 57  FONTE       1 non-null      float64\n",
      " 58  NUMEROLOTE  27377 non-null  float64\n",
      " 59  TPPOS       20499 non-null  object \n",
      " 60  DTINVESTIG  13174 non-null  float64\n",
      " 61  LINHAA_O    0 non-null      float64\n",
      " 62  LINHAB_O    0 non-null      float64\n",
      " 63  LINHAC_O    0 non-null      float64\n",
      " 64  LINHAD_O    0 non-null      float64\n",
      " 65  LINHAII_O   0 non-null      float64\n",
      " 66  CAUSABAS_O  27370 non-null  object \n",
      " 67  DTCADASTRO  27387 non-null  float64\n",
      " 68  ATESTANTE   25150 non-null  float64\n",
      " 69  STCODIFICA  27392 non-null  object \n",
      " 70  CODIFICADO  27394 non-null  object \n",
      " 71  VERSAOSIST  27394 non-null  object \n",
      " 72  VERSAOSCB   26354 non-null  float64\n",
      " 73  FONTEINV    13229 non-null  float64\n",
      " 74  DTRECEBIM   27365 non-null  float64\n",
      " 75  ATESTADO    27386 non-null  object \n",
      " 76  DTRECORIG   0 non-null      float64\n",
      " 77  DTRECORIGA  27394 non-null  int64  \n",
      " 78  CAUSAMAT    0 non-null      float64\n",
      " 79  ESCMAEAGR1  25157 non-null  float64\n",
      " 80  ESCFALAGR1  0 non-null      float64\n",
      " 81  STDOEPIDEM  27394 non-null  int64  \n",
      " 82  STDONOVA    27394 non-null  int64  \n",
      " 83  DIFDATA     27394 non-null  int64  \n",
      " 84  NUDIASOBCO  9 non-null      float64\n",
      " 85  NUDIASOBIN  0 non-null      float64\n",
      " 86  DTCADINV    0 non-null      float64\n",
      " 87  TPOBITOCOR  0 non-null      float64\n",
      " 88  DTCONINV    0 non-null      float64\n",
      " 89  FONTES      22054 non-null  object \n",
      " 90  TPRESGINFO  4 non-null      float64\n",
      " 91  TPNIVELINV  9 non-null      object \n",
      " 92  NUDIASINF   0 non-null      float64\n",
      " 93  DTCADINF    22054 non-null  float64\n",
      " 94  MORTEPARTO  22054 non-null  float64\n",
      " 95  DTCONCASO   20589 non-null  float64\n",
      " 96  FONTESINF   0 non-null      float64\n",
      " 97  ALTCAUSA    21776 non-null  float64\n",
      " 98  CONTADOR    27394 non-null  int64  \n",
      "dtypes: float64(72), int64(13), object(14)\n",
      "memory usage: 20.7+ MB\n"
     ]
    }
   ],
   "source": [
    "df_2022.info()"
   ]
  },
  {
   "cell_type": "code",
   "execution_count": 5,
   "metadata": {},
   "outputs": [],
   "source": [
    "df_2022 = df_2022[\n",
    "    [\n",
    "        'TIPOBITO'\n",
    "        , 'IDADEMAE'\n",
    "        , 'ESCMAE2010'\n",
    "        , 'OBITOGRAV'\n",
    "        , 'GRAVIDEZ'\n",
    "        , 'SEMAGESTAC'\n",
    "        , 'SEXO'\n",
    "        , 'PESO'\n",
    "        , 'OBITOPARTO'\n",
    "        , 'CAUSABAS'\n",
    "        , 'DTOBITO'\n",
    "        , 'CODMUNRES'\n",
    "        , 'CODMUNOCOR'\n",
    "    ]\n",
    "]"
   ]
  },
  {
   "cell_type": "markdown",
   "metadata": {},
   "source": [
    "# Tratamentos"
   ]
  },
  {
   "cell_type": "code",
   "execution_count": 6,
   "metadata": {},
   "outputs": [],
   "source": [
    "# pd.unique(df_2022['TIPOBITO']) # Somente 1 que representa obitos fetais\n",
    "# df_2022['TIPOBITO'].isnull().sum() # Sem NA's\n",
    "# Variável TIPOBITO - OK"
   ]
  },
  {
   "cell_type": "code",
   "execution_count": 7,
   "metadata": {},
   "outputs": [],
   "source": [
    "#pd.unique(df_2022['ESCMAE2010'])\n",
    "#df_2022['ESCMAE2010'].isnull().sum() # 2237 nulls\n",
    "#df_2022['ESCMAE2010'] = [func_categorize_idademae(i) for i in df_2022['IDADEMAE']]\n",
    "# Null = Ignorado"
   ]
  },
  {
   "cell_type": "code",
   "execution_count": 8,
   "metadata": {},
   "outputs": [],
   "source": [
    "#pd.unique(df_2022['IDADEMAE'])\n",
    "#df_2022['IDADEMAE'].isnull().sum() # 1602 nulls\n",
    "df_2022['idademae_faixa'] = [func_categorize_escolmae(i) for i in df_2022['ESCMAE2010']]\n",
    "# Null e 9 = Ignorado"
   ]
  },
  {
   "cell_type": "code",
   "execution_count": 9,
   "metadata": {},
   "outputs": [],
   "source": [
    "#pd.unique(df_2022['OBITOGRAV'])\n",
    "#df_2022['OBITOGRAV'].isnull().sum() # 27393 nulls\n",
    "# 99,99 % nulo"
   ]
  },
  {
   "cell_type": "code",
   "execution_count": 10,
   "metadata": {},
   "outputs": [],
   "source": [
    "#pd.unique(df_2022['GRAVIDEZ'])\n",
    "#df_2022['GRAVIDEZ'].isnull().sum() # 586 nulls\n",
    "df_2022['tipo_gravidez'] = [func_categorize_gravidez(i) for i in df_2022['GRAVIDEZ']]\n",
    "# Null e 9 = Ignorado"
   ]
  },
  {
   "cell_type": "code",
   "execution_count": 11,
   "metadata": {},
   "outputs": [],
   "source": [
    "#pd.unique(df_2022['SEMAGESTAC'])\n",
    "#df_2022['SEMAGESTAC'].isnull().sum() # 1354 nulls\n",
    "df_2022['idade_gestacao_faixa'] = [func_categorize_idade_gest(i) for i in df_2022['SEMAGESTAC']]\n",
    "# Null e 99 = Ignorado"
   ]
  },
  {
   "cell_type": "code",
   "execution_count": 12,
   "metadata": {},
   "outputs": [],
   "source": [
    "#pd.unique(df_2022['SEXO'])\n",
    "#df_2022['SEXO'].isnull().sum() # sem nulls\n",
    "# Remover 0"
   ]
  },
  {
   "cell_type": "code",
   "execution_count": 13,
   "metadata": {},
   "outputs": [],
   "source": [
    "#pd.unique(df_2022['PESO'])\n",
    "#df_2022['PESO'].isnull().sum() # 1463 nulls\n",
    "df_2022['peso_faixa'] = [func_categorize_peso(i) for i in df_2022['PESO']]\n",
    "# Null = Ignorado"
   ]
  },
  {
   "cell_type": "code",
   "execution_count": 14,
   "metadata": {},
   "outputs": [],
   "source": [
    "#pd.unique(df_2022['OBITOPARTO'])\n",
    "#df_2022['OBITOPARTO'].isnull().sum() # 748 nulls\n",
    "# remover null e 9"
   ]
  },
  {
   "cell_type": "code",
   "execution_count": 15,
   "metadata": {},
   "outputs": [
    {
     "data": {
      "text/plain": [
       "0"
      ]
     },
     "execution_count": 15,
     "metadata": {},
     "output_type": "execute_result"
    }
   ],
   "source": [
    "#pd.unique(df_2022['CAUSABAS'])\n",
    "df_2022['CAUSABAS'].isnull().sum() # 0 nulls"
   ]
  },
  {
   "cell_type": "markdown",
   "metadata": {},
   "source": [
    "# Trazendo algumas imformações da PCDas"
   ]
  },
  {
   "cell_type": "code",
   "execution_count": 16,
   "metadata": {},
   "outputs": [
    {
     "name": "stderr",
     "output_type": "stream",
     "text": [
      "<ipython-input-16-4296af8f107a>:2: DtypeWarning: Columns (89,110,112,113,115,116,117) have mixed types. Specify dtype option on import or set low_memory=False.\n",
      "  sim_dofet_2019 = pd.read_csv('SIM_DOFET\\\\ETLSIM.DOFET_2019_t.csv')\n",
      "<ipython-input-16-4296af8f107a>:3: DtypeWarning: Columns (89,105,106,109,110,112,113,115,116,117) have mixed types. Specify dtype option on import or set low_memory=False.\n",
      "  sim_dofet_2020 = pd.read_csv('SIM_DOFET\\\\ETLSIM.DOFET_2020_t.csv')\n",
      "<ipython-input-16-4296af8f107a>:4: DtypeWarning: Columns (89,105,106,110,112,113,115,116,117) have mixed types. Specify dtype option on import or set low_memory=False.\n",
      "  sim_dofet_2021 = pd.read_csv('SIM_DOFET\\\\ETLSIM.DOFET_2021_t.csv')\n"
     ]
    }
   ],
   "source": [
    "# ocor_MUNNOMEX,res_MUNNOMEX,ocor_CAPITAL,res_CAPITAL,ocor_REGIAO,res_REGIAO,ocor_SIGLA_UF,res_SIGLA_UF\n",
    "sim_dofet_2019 = pd.read_csv('SIM_DOFET\\\\ETLSIM.DOFET_2019_t.csv')\n",
    "sim_dofet_2020 = pd.read_csv('SIM_DOFET\\\\ETLSIM.DOFET_2020_t.csv')\n",
    "sim_dofet_2021 = pd.read_csv('SIM_DOFET\\\\ETLSIM.DOFET_2021_t.csv')\n",
    "\n",
    "sim_dofet_unif = pd.concat([sim_dofet_2019, sim_dofet_2020, sim_dofet_2021])"
   ]
  },
  {
   "cell_type": "code",
   "execution_count": 17,
   "metadata": {},
   "outputs": [],
   "source": [
    "sim_dofet_res = sim_dofet_unif[\n",
    "    [\n",
    "        'CODMUNRES'\n",
    "        , 'res_MUNNOMEX'\n",
    "        , 'res_CAPITAL'\n",
    "        , 'res_REGIAO'\n",
    "        , 'res_SIGLA_UF'\n",
    "    ]\n",
    "].drop_duplicates()\n",
    "\n",
    "sim_dofet_ocor = sim_dofet_unif[\n",
    "    [\n",
    "        'CODMUNOCOR'\n",
    "        , 'ocor_MUNNOMEX'\n",
    "        , 'ocor_CAPITAL'\n",
    "        , 'ocor_REGIAO' \n",
    "        , 'ocor_SIGLA_UF'\n",
    "    ]\n",
    "].drop_duplicates()"
   ]
  },
  {
   "cell_type": "code",
   "execution_count": 18,
   "metadata": {},
   "outputs": [
    {
     "data": {
      "text/plain": [
       "27394"
      ]
     },
     "execution_count": 18,
     "metadata": {},
     "output_type": "execute_result"
    }
   ],
   "source": [
    "len(df_2022)"
   ]
  },
  {
   "cell_type": "code",
   "execution_count": 19,
   "metadata": {},
   "outputs": [],
   "source": [
    "df_2022_merge = df_2022.merge(sim_dofet_ocor, how='left', on='CODMUNOCOR')"
   ]
  },
  {
   "cell_type": "code",
   "execution_count": 20,
   "metadata": {},
   "outputs": [],
   "source": [
    "df_2022_merge = df_2022_merge.merge(sim_dofet_res, how='left', on='CODMUNRES')"
   ]
  },
  {
   "cell_type": "code",
   "execution_count": 21,
   "metadata": {},
   "outputs": [
    {
     "name": "stdout",
     "output_type": "stream",
     "text": [
      "<class 'pandas.core.frame.DataFrame'>\n",
      "Int64Index: 27394 entries, 0 to 27393\n",
      "Data columns (total 25 columns):\n",
      " #   Column                Non-Null Count  Dtype  \n",
      "---  ------                --------------  -----  \n",
      " 0   TIPOBITO              27394 non-null  int64  \n",
      " 1   IDADEMAE              25792 non-null  float64\n",
      " 2   ESCMAE2010            25157 non-null  float64\n",
      " 3   OBITOGRAV             1 non-null      float64\n",
      " 4   GRAVIDEZ              26808 non-null  float64\n",
      " 5   SEMAGESTAC            26040 non-null  float64\n",
      " 6   SEXO                  27394 non-null  int64  \n",
      " 7   PESO                  25931 non-null  float64\n",
      " 8   OBITOPARTO            26646 non-null  float64\n",
      " 9   CAUSABAS              27394 non-null  object \n",
      " 10  DTOBITO               27394 non-null  int64  \n",
      " 11  CODMUNRES             27394 non-null  int64  \n",
      " 12  CODMUNOCOR            27394 non-null  int64  \n",
      " 13  idademae_faixa        27394 non-null  object \n",
      " 14  tipo_gravidez         27394 non-null  object \n",
      " 15  idade_gestacao_faixa  27394 non-null  object \n",
      " 16  peso_faixa            27394 non-null  object \n",
      " 17  ocor_MUNNOMEX         27167 non-null  object \n",
      " 18  ocor_CAPITAL          27167 non-null  object \n",
      " 19  ocor_REGIAO           27167 non-null  object \n",
      " 20  ocor_SIGLA_UF         27167 non-null  object \n",
      " 21  res_MUNNOMEX          27161 non-null  object \n",
      " 22  res_CAPITAL           27161 non-null  object \n",
      " 23  res_REGIAO            27161 non-null  object \n",
      " 24  res_SIGLA_UF          27161 non-null  object \n",
      "dtypes: float64(7), int64(5), object(13)\n",
      "memory usage: 5.4+ MB\n"
     ]
    }
   ],
   "source": [
    "df_2022_merge.info()"
   ]
  },
  {
   "cell_type": "code",
   "execution_count": 22,
   "metadata": {},
   "outputs": [],
   "source": [
    "sim_dofet_causa = sim_dofet_unif[\n",
    "    [\n",
    "        'CAUSABAS'\n",
    "        , 'causabas_capitulo'\n",
    "        , 'causabas_categoria'\n",
    "        , 'causabas_grupo'\n",
    "        , 'causabas_subcategoria'\n",
    "                ]\n",
    "].drop_duplicates()"
   ]
  },
  {
   "cell_type": "code",
   "execution_count": 23,
   "metadata": {},
   "outputs": [
    {
     "data": {
      "text/plain": [
       "360"
      ]
     },
     "execution_count": 23,
     "metadata": {},
     "output_type": "execute_result"
    }
   ],
   "source": [
    "len(sim_dofet_causa)"
   ]
  },
  {
   "cell_type": "code",
   "execution_count": 24,
   "metadata": {},
   "outputs": [],
   "source": [
    "df_2022_merge = df_2022_merge.merge(sim_dofet_causa, how='left', on='CAUSABAS')"
   ]
  },
  {
   "cell_type": "code",
   "execution_count": 28,
   "metadata": {},
   "outputs": [],
   "source": [
    "df_2022_merge['FLAG_BASE'] = 'SIM_DOFET'"
   ]
  },
  {
   "cell_type": "code",
   "execution_count": 38,
   "metadata": {},
   "outputs": [],
   "source": [
    "def acerta_data(string):\n",
    "    tam = len(string)\n",
    "    if tam ==8:\n",
    "        dt = f'{string[4:8]}-{string[2:4]}-{string[0:2]}'\n",
    "        return dt\n",
    "    elif tam == 7:\n",
    "        dt = f'{string[3:7]}-{string[1:3]}-0{string[0]}'\n",
    "        return dt\n",
    "    else:\n",
    "        None\n",
    "        \n",
    "    \n",
    "df_2022_merge['data_obito'] = [acerta_data(str(i)) for i in df_2022_merge['DTOBITO']]"
   ]
  },
  {
   "cell_type": "code",
   "execution_count": 42,
   "metadata": {},
   "outputs": [],
   "source": [
    "df_2022_merge['ano_obito'] = [i[0:4] for i in df_2022_merge['data_obito']]"
   ]
  },
  {
   "cell_type": "code",
   "execution_count": 43,
   "metadata": {},
   "outputs": [
    {
     "data": {
      "text/html": [
       "<div>\n",
       "<style scoped>\n",
       "    .dataframe tbody tr th:only-of-type {\n",
       "        vertical-align: middle;\n",
       "    }\n",
       "\n",
       "    .dataframe tbody tr th {\n",
       "        vertical-align: top;\n",
       "    }\n",
       "\n",
       "    .dataframe thead th {\n",
       "        text-align: right;\n",
       "    }\n",
       "</style>\n",
       "<table border=\"1\" class=\"dataframe\">\n",
       "  <thead>\n",
       "    <tr style=\"text-align: right;\">\n",
       "      <th></th>\n",
       "      <th>DTOBITO</th>\n",
       "      <th>data_obito</th>\n",
       "      <th>ano_obito</th>\n",
       "    </tr>\n",
       "  </thead>\n",
       "  <tbody>\n",
       "    <tr>\n",
       "      <th>0</th>\n",
       "      <td>21012022</td>\n",
       "      <td>2022-01-21</td>\n",
       "      <td>2022</td>\n",
       "    </tr>\n",
       "    <tr>\n",
       "      <th>1</th>\n",
       "      <td>12032022</td>\n",
       "      <td>2022-03-12</td>\n",
       "      <td>2022</td>\n",
       "    </tr>\n",
       "    <tr>\n",
       "      <th>2</th>\n",
       "      <td>12052022</td>\n",
       "      <td>2022-05-12</td>\n",
       "      <td>2022</td>\n",
       "    </tr>\n",
       "    <tr>\n",
       "      <th>3</th>\n",
       "      <td>12052022</td>\n",
       "      <td>2022-05-12</td>\n",
       "      <td>2022</td>\n",
       "    </tr>\n",
       "    <tr>\n",
       "      <th>4</th>\n",
       "      <td>11052022</td>\n",
       "      <td>2022-05-11</td>\n",
       "      <td>2022</td>\n",
       "    </tr>\n",
       "    <tr>\n",
       "      <th>...</th>\n",
       "      <td>...</td>\n",
       "      <td>...</td>\n",
       "      <td>...</td>\n",
       "    </tr>\n",
       "    <tr>\n",
       "      <th>27389</th>\n",
       "      <td>22082022</td>\n",
       "      <td>2022-08-22</td>\n",
       "      <td>2022</td>\n",
       "    </tr>\n",
       "    <tr>\n",
       "      <th>27390</th>\n",
       "      <td>22082022</td>\n",
       "      <td>2022-08-22</td>\n",
       "      <td>2022</td>\n",
       "    </tr>\n",
       "    <tr>\n",
       "      <th>27391</th>\n",
       "      <td>9112022</td>\n",
       "      <td>2022-11-09</td>\n",
       "      <td>2022</td>\n",
       "    </tr>\n",
       "    <tr>\n",
       "      <th>27392</th>\n",
       "      <td>21092022</td>\n",
       "      <td>2022-09-21</td>\n",
       "      <td>2022</td>\n",
       "    </tr>\n",
       "    <tr>\n",
       "      <th>27393</th>\n",
       "      <td>8082022</td>\n",
       "      <td>2022-08-08</td>\n",
       "      <td>2022</td>\n",
       "    </tr>\n",
       "  </tbody>\n",
       "</table>\n",
       "<p>27394 rows × 3 columns</p>\n",
       "</div>"
      ],
      "text/plain": [
       "        DTOBITO  data_obito ano_obito\n",
       "0      21012022  2022-01-21      2022\n",
       "1      12032022  2022-03-12      2022\n",
       "2      12052022  2022-05-12      2022\n",
       "3      12052022  2022-05-12      2022\n",
       "4      11052022  2022-05-11      2022\n",
       "...         ...         ...       ...\n",
       "27389  22082022  2022-08-22      2022\n",
       "27390  22082022  2022-08-22      2022\n",
       "27391   9112022  2022-11-09      2022\n",
       "27392  21092022  2022-09-21      2022\n",
       "27393   8082022  2022-08-08      2022\n",
       "\n",
       "[27394 rows x 3 columns]"
      ]
     },
     "execution_count": 43,
     "metadata": {},
     "output_type": "execute_result"
    }
   ],
   "source": [
    "df_2022_merge[['DTOBITO', 'data_obito', 'ano_obito']]"
   ]
  },
  {
   "cell_type": "code",
   "execution_count": 37,
   "metadata": {},
   "outputs": [
    {
     "data": {
      "text/plain": [
       "7"
      ]
     },
     "execution_count": 37,
     "metadata": {},
     "output_type": "execute_result"
    }
   ],
   "source": [
    "len(str(1092022))"
   ]
  },
  {
   "cell_type": "code",
   "execution_count": null,
   "metadata": {},
   "outputs": [],
   "source": [
    "'data_obito', 'ano_obito', 'escolaridade_mae', 'def_sexo', 'def_obito_parto'"
   ]
  },
  {
   "cell_type": "code",
   "execution_count": 25,
   "metadata": {},
   "outputs": [
    {
     "data": {
      "text/plain": [
       "Index(['TIPOBITO', 'IDADEMAE', 'ESCMAE2010', 'OBITOGRAV', 'GRAVIDEZ',\n",
       "       'SEMAGESTAC', 'SEXO', 'PESO', 'OBITOPARTO', 'CAUSABAS', 'DTOBITO',\n",
       "       'CODMUNRES', 'CODMUNOCOR', 'idademae_faixa', 'tipo_gravidez',\n",
       "       'idade_gestacao_faixa', 'peso_faixa', 'ocor_MUNNOMEX', 'ocor_CAPITAL',\n",
       "       'ocor_REGIAO', 'ocor_SIGLA_UF', 'res_MUNNOMEX', 'res_CAPITAL',\n",
       "       'res_REGIAO', 'res_SIGLA_UF', 'causabas_capitulo', 'causabas_categoria',\n",
       "       'causabas_grupo', 'causabas_subcategoria'],\n",
       "      dtype='object')"
      ]
     },
     "execution_count": 25,
     "metadata": {},
     "output_type": "execute_result"
    }
   ],
   "source": [
    "df_2022_merge.columns"
   ]
  },
  {
   "cell_type": "code",
   "execution_count": 26,
   "metadata": {},
   "outputs": [
    {
     "data": {
      "text/plain": [
       "Index(['data_obito', 'ano_obito', 'TIPOBITO', 'ocor_MUNNOMEX', 'res_MUNNOMEX',\n",
       "       'ocor_CAPITAL', 'res_CAPITAL', 'ocor_REGIAO', 'res_REGIAO',\n",
       "       'ocor_SIGLA_UF', 'res_SIGLA_UF', 'IDADEMAE', 'idademae_faixa',\n",
       "       'ESCMAE2010', 'escolaridade_mae', 'OBITOGRAV', 'GRAVIDEZ',\n",
       "       'tipo_gravidez', 'SEMAGESTAC', 'idade_gestacao_faixa', 'SEXO',\n",
       "       'def_sexo', 'PESO', 'peso_faixa', 'OBITOPARTO', 'def_obito_parto',\n",
       "       'CAUSABAS', 'causabas_capitulo', 'causabas_categoria', 'causabas_grupo',\n",
       "       'causabas_subcategoria', 'FLAG_BASE'],\n",
       "      dtype='object')"
      ]
     },
     "execution_count": 26,
     "metadata": {},
     "output_type": "execute_result"
    }
   ],
   "source": [
    "df_dofet_suja.columns"
   ]
  },
  {
   "cell_type": "code",
   "execution_count": null,
   "metadata": {},
   "outputs": [],
   "source": []
  },
  {
   "cell_type": "code",
   "execution_count": null,
   "metadata": {},
   "outputs": [],
   "source": []
  },
  {
   "cell_type": "code",
   "execution_count": null,
   "metadata": {},
   "outputs": [],
   "source": []
  },
  {
   "cell_type": "code",
   "execution_count": null,
   "metadata": {},
   "outputs": [],
   "source": []
  },
  {
   "cell_type": "code",
   "execution_count": 27,
   "metadata": {},
   "outputs": [
    {
     "ename": "KeyError",
     "evalue": "\"['data_obito', 'ano_obito', 'escolaridade_mae', 'def_sexo', 'def_obito_parto', 'FLAG_BASE'] not in index\"",
     "output_type": "error",
     "traceback": [
      "\u001b[1;31m---------------------------------------------------------------------------\u001b[0m",
      "\u001b[1;31mKeyError\u001b[0m                                  Traceback (most recent call last)",
      "\u001b[1;32m<ipython-input-27-6a7f98b0366b>\u001b[0m in \u001b[0;36m<module>\u001b[1;34m\u001b[0m\n\u001b[1;32m----> 1\u001b[1;33m df_2022_merge_import = df_2022_merge[['data_obito', 'ano_obito', 'TIPOBITO', 'ocor_MUNNOMEX', 'res_MUNNOMEX',\n\u001b[0m\u001b[0;32m      2\u001b[0m        \u001b[1;34m'ocor_CAPITAL'\u001b[0m\u001b[1;33m,\u001b[0m \u001b[1;34m'res_CAPITAL'\u001b[0m\u001b[1;33m,\u001b[0m \u001b[1;34m'ocor_REGIAO'\u001b[0m\u001b[1;33m,\u001b[0m \u001b[1;34m'res_REGIAO'\u001b[0m\u001b[1;33m,\u001b[0m\u001b[1;33m\u001b[0m\u001b[1;33m\u001b[0m\u001b[0m\n\u001b[0;32m      3\u001b[0m        \u001b[1;34m'ocor_SIGLA_UF'\u001b[0m\u001b[1;33m,\u001b[0m \u001b[1;34m'res_SIGLA_UF'\u001b[0m\u001b[1;33m,\u001b[0m \u001b[1;34m'IDADEMAE'\u001b[0m\u001b[1;33m,\u001b[0m \u001b[1;34m'idademae_faixa'\u001b[0m\u001b[1;33m,\u001b[0m\u001b[1;33m\u001b[0m\u001b[1;33m\u001b[0m\u001b[0m\n\u001b[0;32m      4\u001b[0m        \u001b[1;34m'ESCMAE2010'\u001b[0m\u001b[1;33m,\u001b[0m \u001b[1;34m'escolaridade_mae'\u001b[0m\u001b[1;33m,\u001b[0m \u001b[1;34m'OBITOGRAV'\u001b[0m\u001b[1;33m,\u001b[0m \u001b[1;34m'GRAVIDEZ'\u001b[0m\u001b[1;33m,\u001b[0m\u001b[1;33m\u001b[0m\u001b[1;33m\u001b[0m\u001b[0m\n\u001b[0;32m      5\u001b[0m        \u001b[1;34m'tipo_gravidez'\u001b[0m\u001b[1;33m,\u001b[0m \u001b[1;34m'SEMAGESTAC'\u001b[0m\u001b[1;33m,\u001b[0m \u001b[1;34m'idade_gestacao_faixa'\u001b[0m\u001b[1;33m,\u001b[0m \u001b[1;34m'SEXO'\u001b[0m\u001b[1;33m,\u001b[0m\u001b[1;33m\u001b[0m\u001b[1;33m\u001b[0m\u001b[0m\n",
      "\u001b[1;32m~\\anaconda3\\lib\\site-packages\\pandas\\core\\frame.py\u001b[0m in \u001b[0;36m__getitem__\u001b[1;34m(self, key)\u001b[0m\n\u001b[0;32m   3509\u001b[0m             \u001b[1;32mif\u001b[0m \u001b[0mis_iterator\u001b[0m\u001b[1;33m(\u001b[0m\u001b[0mkey\u001b[0m\u001b[1;33m)\u001b[0m\u001b[1;33m:\u001b[0m\u001b[1;33m\u001b[0m\u001b[1;33m\u001b[0m\u001b[0m\n\u001b[0;32m   3510\u001b[0m                 \u001b[0mkey\u001b[0m \u001b[1;33m=\u001b[0m \u001b[0mlist\u001b[0m\u001b[1;33m(\u001b[0m\u001b[0mkey\u001b[0m\u001b[1;33m)\u001b[0m\u001b[1;33m\u001b[0m\u001b[1;33m\u001b[0m\u001b[0m\n\u001b[1;32m-> 3511\u001b[1;33m             \u001b[0mindexer\u001b[0m \u001b[1;33m=\u001b[0m \u001b[0mself\u001b[0m\u001b[1;33m.\u001b[0m\u001b[0mcolumns\u001b[0m\u001b[1;33m.\u001b[0m\u001b[0m_get_indexer_strict\u001b[0m\u001b[1;33m(\u001b[0m\u001b[0mkey\u001b[0m\u001b[1;33m,\u001b[0m \u001b[1;34m\"columns\"\u001b[0m\u001b[1;33m)\u001b[0m\u001b[1;33m[\u001b[0m\u001b[1;36m1\u001b[0m\u001b[1;33m]\u001b[0m\u001b[1;33m\u001b[0m\u001b[1;33m\u001b[0m\u001b[0m\n\u001b[0m\u001b[0;32m   3512\u001b[0m \u001b[1;33m\u001b[0m\u001b[0m\n\u001b[0;32m   3513\u001b[0m         \u001b[1;31m# take() does not accept boolean indexers\u001b[0m\u001b[1;33m\u001b[0m\u001b[1;33m\u001b[0m\u001b[1;33m\u001b[0m\u001b[0m\n",
      "\u001b[1;32m~\\anaconda3\\lib\\site-packages\\pandas\\core\\indexes\\base.py\u001b[0m in \u001b[0;36m_get_indexer_strict\u001b[1;34m(self, key, axis_name)\u001b[0m\n\u001b[0;32m   5780\u001b[0m             \u001b[0mkeyarr\u001b[0m\u001b[1;33m,\u001b[0m \u001b[0mindexer\u001b[0m\u001b[1;33m,\u001b[0m \u001b[0mnew_indexer\u001b[0m \u001b[1;33m=\u001b[0m \u001b[0mself\u001b[0m\u001b[1;33m.\u001b[0m\u001b[0m_reindex_non_unique\u001b[0m\u001b[1;33m(\u001b[0m\u001b[0mkeyarr\u001b[0m\u001b[1;33m)\u001b[0m\u001b[1;33m\u001b[0m\u001b[1;33m\u001b[0m\u001b[0m\n\u001b[0;32m   5781\u001b[0m \u001b[1;33m\u001b[0m\u001b[0m\n\u001b[1;32m-> 5782\u001b[1;33m         \u001b[0mself\u001b[0m\u001b[1;33m.\u001b[0m\u001b[0m_raise_if_missing\u001b[0m\u001b[1;33m(\u001b[0m\u001b[0mkeyarr\u001b[0m\u001b[1;33m,\u001b[0m \u001b[0mindexer\u001b[0m\u001b[1;33m,\u001b[0m \u001b[0maxis_name\u001b[0m\u001b[1;33m)\u001b[0m\u001b[1;33m\u001b[0m\u001b[1;33m\u001b[0m\u001b[0m\n\u001b[0m\u001b[0;32m   5783\u001b[0m \u001b[1;33m\u001b[0m\u001b[0m\n\u001b[0;32m   5784\u001b[0m         \u001b[0mkeyarr\u001b[0m \u001b[1;33m=\u001b[0m \u001b[0mself\u001b[0m\u001b[1;33m.\u001b[0m\u001b[0mtake\u001b[0m\u001b[1;33m(\u001b[0m\u001b[0mindexer\u001b[0m\u001b[1;33m)\u001b[0m\u001b[1;33m\u001b[0m\u001b[1;33m\u001b[0m\u001b[0m\n",
      "\u001b[1;32m~\\anaconda3\\lib\\site-packages\\pandas\\core\\indexes\\base.py\u001b[0m in \u001b[0;36m_raise_if_missing\u001b[1;34m(self, key, indexer, axis_name)\u001b[0m\n\u001b[0;32m   5843\u001b[0m \u001b[1;33m\u001b[0m\u001b[0m\n\u001b[0;32m   5844\u001b[0m             \u001b[0mnot_found\u001b[0m \u001b[1;33m=\u001b[0m \u001b[0mlist\u001b[0m\u001b[1;33m(\u001b[0m\u001b[0mensure_index\u001b[0m\u001b[1;33m(\u001b[0m\u001b[0mkey\u001b[0m\u001b[1;33m)\u001b[0m\u001b[1;33m[\u001b[0m\u001b[0mmissing_mask\u001b[0m\u001b[1;33m.\u001b[0m\u001b[0mnonzero\u001b[0m\u001b[1;33m(\u001b[0m\u001b[1;33m)\u001b[0m\u001b[1;33m[\u001b[0m\u001b[1;36m0\u001b[0m\u001b[1;33m]\u001b[0m\u001b[1;33m]\u001b[0m\u001b[1;33m.\u001b[0m\u001b[0munique\u001b[0m\u001b[1;33m(\u001b[0m\u001b[1;33m)\u001b[0m\u001b[1;33m)\u001b[0m\u001b[1;33m\u001b[0m\u001b[1;33m\u001b[0m\u001b[0m\n\u001b[1;32m-> 5845\u001b[1;33m             \u001b[1;32mraise\u001b[0m \u001b[0mKeyError\u001b[0m\u001b[1;33m(\u001b[0m\u001b[1;34mf\"{not_found} not in index\"\u001b[0m\u001b[1;33m)\u001b[0m\u001b[1;33m\u001b[0m\u001b[1;33m\u001b[0m\u001b[0m\n\u001b[0m\u001b[0;32m   5846\u001b[0m \u001b[1;33m\u001b[0m\u001b[0m\n\u001b[0;32m   5847\u001b[0m     \u001b[1;33m@\u001b[0m\u001b[0moverload\u001b[0m\u001b[1;33m\u001b[0m\u001b[1;33m\u001b[0m\u001b[0m\n",
      "\u001b[1;31mKeyError\u001b[0m: \"['data_obito', 'ano_obito', 'escolaridade_mae', 'def_sexo', 'def_obito_parto', 'FLAG_BASE'] not in index\""
     ]
    }
   ],
   "source": [
    "df_2022_merge_import = df_2022_merge[['data_obito', 'ano_obito', 'TIPOBITO', 'ocor_MUNNOMEX', 'res_MUNNOMEX',\n",
    "       'ocor_CAPITAL', 'res_CAPITAL', 'ocor_REGIAO', 'res_REGIAO',\n",
    "       'ocor_SIGLA_UF', 'res_SIGLA_UF', 'IDADEMAE', 'idademae_faixa',\n",
    "       'ESCMAE2010', 'escolaridade_mae', 'OBITOGRAV', 'GRAVIDEZ',\n",
    "       'tipo_gravidez', 'SEMAGESTAC', 'idade_gestacao_faixa', 'SEXO',\n",
    "       'def_sexo', 'PESO', 'peso_faixa', 'OBITOPARTO', 'def_obito_parto',\n",
    "       'CAUSABAS', 'causabas_capitulo', 'causabas_categoria', 'causabas_grupo',\n",
    "       'causabas_subcategoria', 'FLAG_BASE']]"
   ]
  },
  {
   "cell_type": "code",
   "execution_count": 29,
   "metadata": {},
   "outputs": [
    {
     "data": {
      "text/html": [
       "<div>\n",
       "<style scoped>\n",
       "    .dataframe tbody tr th:only-of-type {\n",
       "        vertical-align: middle;\n",
       "    }\n",
       "\n",
       "    .dataframe tbody tr th {\n",
       "        vertical-align: top;\n",
       "    }\n",
       "\n",
       "    .dataframe thead th {\n",
       "        text-align: right;\n",
       "    }\n",
       "</style>\n",
       "<table border=\"1\" class=\"dataframe\">\n",
       "  <thead>\n",
       "    <tr style=\"text-align: right;\">\n",
       "      <th></th>\n",
       "      <th>data_obito</th>\n",
       "      <th>ano_obito</th>\n",
       "      <th>escolaridade_mae</th>\n",
       "      <th>def_sexo</th>\n",
       "      <th>def_obito_parto</th>\n",
       "      <th>FLAG_BASE</th>\n",
       "    </tr>\n",
       "  </thead>\n",
       "  <tbody>\n",
       "    <tr>\n",
       "      <th>0</th>\n",
       "      <td>2019-01-30</td>\n",
       "      <td>2019</td>\n",
       "      <td>Ensino_medio</td>\n",
       "      <td>Masculino</td>\n",
       "      <td>Antes</td>\n",
       "      <td>SIM_DOFET</td>\n",
       "    </tr>\n",
       "    <tr>\n",
       "      <th>1</th>\n",
       "      <td>2019-01-24</td>\n",
       "      <td>2019</td>\n",
       "      <td>Ignorado</td>\n",
       "      <td>Masculino</td>\n",
       "      <td>Antes</td>\n",
       "      <td>SIM_DOFET</td>\n",
       "    </tr>\n",
       "    <tr>\n",
       "      <th>2</th>\n",
       "      <td>2019-01-29</td>\n",
       "      <td>2019</td>\n",
       "      <td>Ignorado</td>\n",
       "      <td>Ignorado</td>\n",
       "      <td>Antes</td>\n",
       "      <td>SIM_DOFET</td>\n",
       "    </tr>\n",
       "    <tr>\n",
       "      <th>3</th>\n",
       "      <td>2019-01-25</td>\n",
       "      <td>2019</td>\n",
       "      <td>Fundamental</td>\n",
       "      <td>Masculino</td>\n",
       "      <td>Antes</td>\n",
       "      <td>SIM_DOFET</td>\n",
       "    </tr>\n",
       "    <tr>\n",
       "      <th>4</th>\n",
       "      <td>2019-02-14</td>\n",
       "      <td>2019</td>\n",
       "      <td>Ignorado</td>\n",
       "      <td>Masculino</td>\n",
       "      <td>Antes</td>\n",
       "      <td>SIM_DOFET</td>\n",
       "    </tr>\n",
       "    <tr>\n",
       "      <th>...</th>\n",
       "      <td>...</td>\n",
       "      <td>...</td>\n",
       "      <td>...</td>\n",
       "      <td>...</td>\n",
       "      <td>...</td>\n",
       "      <td>...</td>\n",
       "    </tr>\n",
       "    <tr>\n",
       "      <th>87418</th>\n",
       "      <td>2021-12-01</td>\n",
       "      <td>2021</td>\n",
       "      <td>Sem_escolaridade</td>\n",
       "      <td>Masculino</td>\n",
       "      <td>Antes</td>\n",
       "      <td>SIM_DOFET</td>\n",
       "    </tr>\n",
       "    <tr>\n",
       "      <th>87419</th>\n",
       "      <td>2021-11-08</td>\n",
       "      <td>2021</td>\n",
       "      <td>Fundamental</td>\n",
       "      <td>Feminino</td>\n",
       "      <td>Antes</td>\n",
       "      <td>SIM_DOFET</td>\n",
       "    </tr>\n",
       "    <tr>\n",
       "      <th>87420</th>\n",
       "      <td>2021-08-15</td>\n",
       "      <td>2021</td>\n",
       "      <td>Fundamental</td>\n",
       "      <td>Feminino</td>\n",
       "      <td>Durante</td>\n",
       "      <td>SIM_DOFET</td>\n",
       "    </tr>\n",
       "    <tr>\n",
       "      <th>87421</th>\n",
       "      <td>2021-09-20</td>\n",
       "      <td>2021</td>\n",
       "      <td>Ignorado</td>\n",
       "      <td>Feminino</td>\n",
       "      <td>Antes</td>\n",
       "      <td>SIM_DOFET</td>\n",
       "    </tr>\n",
       "    <tr>\n",
       "      <th>87422</th>\n",
       "      <td>2021-11-15</td>\n",
       "      <td>2021</td>\n",
       "      <td>Fundamental</td>\n",
       "      <td>Feminino</td>\n",
       "      <td>Antes</td>\n",
       "      <td>SIM_DOFET</td>\n",
       "    </tr>\n",
       "  </tbody>\n",
       "</table>\n",
       "<p>87423 rows × 6 columns</p>\n",
       "</div>"
      ],
      "text/plain": [
       "       data_obito  ano_obito  escolaridade_mae   def_sexo def_obito_parto  \\\n",
       "0      2019-01-30       2019      Ensino_medio  Masculino           Antes   \n",
       "1      2019-01-24       2019          Ignorado  Masculino           Antes   \n",
       "2      2019-01-29       2019          Ignorado   Ignorado           Antes   \n",
       "3      2019-01-25       2019       Fundamental  Masculino           Antes   \n",
       "4      2019-02-14       2019          Ignorado  Masculino           Antes   \n",
       "...           ...        ...               ...        ...             ...   \n",
       "87418  2021-12-01       2021  Sem_escolaridade  Masculino           Antes   \n",
       "87419  2021-11-08       2021       Fundamental   Feminino           Antes   \n",
       "87420  2021-08-15       2021       Fundamental   Feminino         Durante   \n",
       "87421  2021-09-20       2021          Ignorado   Feminino           Antes   \n",
       "87422  2021-11-15       2021       Fundamental   Feminino           Antes   \n",
       "\n",
       "       FLAG_BASE  \n",
       "0      SIM_DOFET  \n",
       "1      SIM_DOFET  \n",
       "2      SIM_DOFET  \n",
       "3      SIM_DOFET  \n",
       "4      SIM_DOFET  \n",
       "...          ...  \n",
       "87418  SIM_DOFET  \n",
       "87419  SIM_DOFET  \n",
       "87420  SIM_DOFET  \n",
       "87421  SIM_DOFET  \n",
       "87422  SIM_DOFET  \n",
       "\n",
       "[87423 rows x 6 columns]"
      ]
     },
     "execution_count": 29,
     "metadata": {},
     "output_type": "execute_result"
    }
   ],
   "source": [
    "df_dofet_suja[['data_obito', 'ano_obito', 'escolaridade_mae', 'def_sexo', 'def_obito_parto', 'FLAG_BASE']]"
   ]
  },
  {
   "cell_type": "code",
   "execution_count": 31,
   "metadata": {},
   "outputs": [
    {
     "data": {
      "text/plain": [
       "0        2019-01-30\n",
       "1        2019-01-24\n",
       "2        2019-01-29\n",
       "3        2019-01-25\n",
       "4        2019-02-14\n",
       "            ...    \n",
       "87418    2021-12-01\n",
       "87419    2021-11-08\n",
       "87420    2021-08-15\n",
       "87421    2021-09-20\n",
       "87422    2021-11-15\n",
       "Name: data_obito, Length: 87423, dtype: object"
      ]
     },
     "execution_count": 31,
     "metadata": {},
     "output_type": "execute_result"
    }
   ],
   "source": [
    "df_dofet_suja['data_obito']"
   ]
  },
  {
   "cell_type": "code",
   "execution_count": null,
   "metadata": {},
   "outputs": [],
   "source": []
  }
 ],
 "metadata": {
  "kernelspec": {
   "display_name": "Python 3",
   "language": "python",
   "name": "python3"
  },
  "language_info": {
   "codemirror_mode": {
    "name": "ipython",
    "version": 3
   },
   "file_extension": ".py",
   "mimetype": "text/x-python",
   "name": "python",
   "nbconvert_exporter": "python",
   "pygments_lexer": "ipython3",
   "version": "3.8.5"
  }
 },
 "nbformat": 4,
 "nbformat_minor": 4
}
